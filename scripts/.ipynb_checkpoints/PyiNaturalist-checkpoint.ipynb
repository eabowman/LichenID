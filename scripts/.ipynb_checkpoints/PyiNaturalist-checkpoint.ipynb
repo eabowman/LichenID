{
 "cells": [
  {
   "cell_type": "code",
   "execution_count": null,
   "id": "d10fcb29-8fec-4092-b99f-9f7268b86c19",
   "metadata": {},
   "outputs": [],
   "source": [
    "# Code to download observations of lichens from iNaturalist\n",
    "# https://github.com/pyinat/pyinaturalist"
   ]
  },
  {
   "cell_type": "code",
   "execution_count": null,
   "id": "38ec1a28-6022-4a83-9b1e-1c297e9d9cf9",
   "metadata": {},
   "outputs": [],
   "source": [
    "# Install pyinaturalist\n",
    "%pip install pyinaturalist"
   ]
  },
  {
   "cell_type": "code",
   "execution_count": null,
   "id": "d4baaeb5-834b-48c1-b594-2994b4459654",
   "metadata": {},
   "outputs": [],
   "source": [
    "# Import the main API functions\n",
    "from pyinaturalist import *"
   ]
  },
  {
   "cell_type": "code",
   "execution_count": null,
   "id": "cfebc6c0-44a4-4565-9ad0-1160f7e6dab6",
   "metadata": {},
   "outputs": [],
   "source": [
    "# install pandas\n",
    "%pip install pandas"
   ]
  },
  {
   "cell_type": "code",
   "execution_count": null,
   "id": "58afa8f9-a8b6-491f-bd8d-3cf6336aa145",
   "metadata": {},
   "outputs": [],
   "source": [
    "import pandas as pd\n",
    "print(pd.__version__)"
   ]
  },
  {
   "cell_type": "code",
   "execution_count": null,
   "id": "576bc5fa-e288-4579-8016-c113e2dd4efc",
   "metadata": {},
   "outputs": [],
   "source": [
    "# The fields we are interested in searching are Taxon and \n",
    "# List of other fields that can be used https://pyinaturalist.readthedocs.io/en/stable/modules/pyinaturalist.v1.observations.html#pyinaturalist.v1.observations.create_observation"
   ]
  },
  {
   "cell_type": "code",
   "execution_count": null,
   "id": "199dcb9e-0582-4dbd-93fb-666d5935ad8b",
   "metadata": {},
   "outputs": [],
   "source": [
    "response = get_taxa(parent_id = "
   ]
  },
  {
   "cell_type": "code",
   "execution_count": 10,
   "id": "688b9e2a-6a55-485f-b7d2-ab0edf0c162a",
   "metadata": {},
   "outputs": [
    {
     "data": {
      "text/html": [
       "<pre style=\"white-space:pre;overflow-x:auto;line-height:normal;font-family:Menlo,'DejaVu Sans Mono',consolas,'Courier New',monospace\">                                                                                                         \n",
       " <span style=\"color: #c0c0c0; text-decoration-color: #c0c0c0; font-weight: bold\"> ID        </span> <span style=\"color: #c0c0c0; text-decoration-color: #c0c0c0; font-weight: bold\"> Taxon ID </span> <span style=\"color: #c0c0c0; text-decoration-color: #c0c0c0; font-weight: bold\"> Taxon                       </span> <span style=\"color: #c0c0c0; text-decoration-color: #c0c0c0; font-weight: bold\"> Observed on  </span> <span style=\"color: #c0c0c0; text-decoration-color: #c0c0c0; font-weight: bold\"> User             </span> <span style=\"color: #c0c0c0; text-decoration-color: #c0c0c0; font-weight: bold\"> Location       </span> \n",
       " ━━━━━━━━━━━━━━━━━━━━━━━━━━━━━━━━━━━━━━━━━━━━━━━━━━━━━━━━━━━━━━━━━━━━━━━━━━━━━━━━━━━━━━━━━━━━━━━━━━━━━━━ \n",
       " <span style=\"color: #7fbfbf; text-decoration-color: #7fbfbf\"> 272018456 </span> <span style=\"color: #7fbfbf; text-decoration-color: #7fbfbf\"> 123175   </span> <span style=\"color: #7fbf7f; text-decoration-color: #7fbf7f\"> </span><span style=\"color: #7fbf7f; text-decoration-color: #7fbf7f; font-style: italic\">Evernia prunastri</span><span style=\"color: #7fbf7f; text-decoration-color: #7fbf7f\"> (Oakmoss) </span> <span style=\"color: #7f7fbf; text-decoration-color: #7f7fbf\"> Apr 17, 2025 </span> <span style=\"color: #bf7fbf; text-decoration-color: #bf7fbf\"> rysiaty_lubuskie </span> <span style=\"color: #dfdfdf; text-decoration-color: #dfdfdf\"> Danków, Polska </span> \n",
       "                                                                                                         \n",
       "</pre>\n"
      ],
      "text/plain": [
       "                                                                                                         \n",
       " \u001b[1;37m \u001b[0m\u001b[1;37mID       \u001b[0m\u001b[1;37m \u001b[0m \u001b[1;37m \u001b[0m\u001b[1;37mTaxon ID\u001b[0m\u001b[1;37m \u001b[0m \u001b[1;37m \u001b[0m\u001b[1;37mTaxon                      \u001b[0m\u001b[1;37m \u001b[0m \u001b[1;37m \u001b[0m\u001b[1;37mObserved on \u001b[0m\u001b[1;37m \u001b[0m \u001b[1;37m \u001b[0m\u001b[1;37mUser            \u001b[0m\u001b[1;37m \u001b[0m \u001b[1;37m \u001b[0m\u001b[1;37mLocation      \u001b[0m\u001b[1;37m \u001b[0m \n",
       " ━━━━━━━━━━━━━━━━━━━━━━━━━━━━━━━━━━━━━━━━━━━━━━━━━━━━━━━━━━━━━━━━━━━━━━━━━━━━━━━━━━━━━━━━━━━━━━━━━━━━━━━ \n",
       " \u001b[2;36m \u001b[0m\u001b[2;36m272018456\u001b[0m\u001b[2;36m \u001b[0m \u001b[2;36m \u001b[0m\u001b[2;36m123175  \u001b[0m\u001b[2;36m \u001b[0m \u001b[2;32m \u001b[0m\u001b[2;3;32mEvernia prunastri\u001b[0m\u001b[2;32m (Oakmoss)\u001b[0m\u001b[2;32m \u001b[0m \u001b[2;34m \u001b[0m\u001b[2;34mApr 17, 2025\u001b[0m\u001b[2;34m \u001b[0m \u001b[2;35m \u001b[0m\u001b[2;35mrysiaty_lubuskie\u001b[0m\u001b[2;35m \u001b[0m \u001b[2;37m \u001b[0m\u001b[2;37mDanków, Polska\u001b[0m\u001b[2;37m \u001b[0m \n",
       "                                                                                                         \n"
      ]
     },
     "metadata": {},
     "output_type": "display_data"
    },
    {
     "data": {
      "text/html": [
       "<pre style=\"white-space:pre;overflow-x:auto;line-height:normal;font-family:Menlo,'DejaVu Sans Mono',consolas,'Courier New',monospace\">                                                                                                                   \n",
       " <span style=\"color: #c0c0c0; text-decoration-color: #c0c0c0; font-weight: bold\"> ID        </span> <span style=\"color: #c0c0c0; text-decoration-color: #c0c0c0; font-weight: bold\"> Taxon ID </span> <span style=\"color: #c0c0c0; text-decoration-color: #c0c0c0; font-weight: bold\"> Taxon                                   </span> <span style=\"color: #c0c0c0; text-decoration-color: #c0c0c0; font-weight: bold\"> Observed on  </span> <span style=\"color: #c0c0c0; text-decoration-color: #c0c0c0; font-weight: bold\"> User   </span> <span style=\"color: #c0c0c0; text-decoration-color: #c0c0c0; font-weight: bold\"> Location               </span> \n",
       " ━━━━━━━━━━━━━━━━━━━━━━━━━━━━━━━━━━━━━━━━━━━━━━━━━━━━━━━━━━━━━━━━━━━━━━━━━━━━━━━━━━━━━━━━━━━━━━━━━━━━━━━━━━━━━━━━━ \n",
       " <span style=\"color: #7fbfbf; text-decoration-color: #7fbfbf\"> 272009534 </span> <span style=\"color: #7fbfbf; text-decoration-color: #7fbfbf\"> 117943   </span> <span style=\"color: #7fbf7f; text-decoration-color: #7fbf7f\"> </span><span style=\"color: #7fbf7f; text-decoration-color: #7fbf7f; font-style: italic\">Flavoparmelia caperata</span><span style=\"color: #7fbf7f; text-decoration-color: #7fbf7f\"> (Common          </span> <span style=\"color: #7f7fbf; text-decoration-color: #7f7fbf\"> Apr 21, 2025 </span> <span style=\"color: #bf7fbf; text-decoration-color: #bf7fbf\"> klapar </span> <span style=\"color: #dfdfdf; text-decoration-color: #dfdfdf\"> Powiat słupski, Polska </span> \n",
       " <span style=\"color: #7fbfbf; text-decoration-color: #7fbfbf\">           </span> <span style=\"color: #7fbfbf; text-decoration-color: #7fbfbf\">          </span> <span style=\"color: #7fbf7f; text-decoration-color: #7fbf7f\"> Greenshield Lichen)                     </span> <span style=\"color: #7f7fbf; text-decoration-color: #7f7fbf\">              </span> <span style=\"color: #bf7fbf; text-decoration-color: #bf7fbf\">        </span> <span style=\"color: #dfdfdf; text-decoration-color: #dfdfdf\">                        </span> \n",
       "                                                                                                                   \n",
       "</pre>\n"
      ],
      "text/plain": [
       "                                                                                                                   \n",
       " \u001b[1;37m \u001b[0m\u001b[1;37mID       \u001b[0m\u001b[1;37m \u001b[0m \u001b[1;37m \u001b[0m\u001b[1;37mTaxon ID\u001b[0m\u001b[1;37m \u001b[0m \u001b[1;37m \u001b[0m\u001b[1;37mTaxon                                  \u001b[0m\u001b[1;37m \u001b[0m \u001b[1;37m \u001b[0m\u001b[1;37mObserved on \u001b[0m\u001b[1;37m \u001b[0m \u001b[1;37m \u001b[0m\u001b[1;37mUser  \u001b[0m\u001b[1;37m \u001b[0m \u001b[1;37m \u001b[0m\u001b[1;37mLocation              \u001b[0m\u001b[1;37m \u001b[0m \n",
       " ━━━━━━━━━━━━━━━━━━━━━━━━━━━━━━━━━━━━━━━━━━━━━━━━━━━━━━━━━━━━━━━━━━━━━━━━━━━━━━━━━━━━━━━━━━━━━━━━━━━━━━━━━━━━━━━━━ \n",
       " \u001b[2;36m \u001b[0m\u001b[2;36m272009534\u001b[0m\u001b[2;36m \u001b[0m \u001b[2;36m \u001b[0m\u001b[2;36m117943  \u001b[0m\u001b[2;36m \u001b[0m \u001b[2;32m \u001b[0m\u001b[2;3;32mFlavoparmelia caperata\u001b[0m\u001b[2;32m (Common         \u001b[0m\u001b[2;32m \u001b[0m \u001b[2;34m \u001b[0m\u001b[2;34mApr 21, 2025\u001b[0m\u001b[2;34m \u001b[0m \u001b[2;35m \u001b[0m\u001b[2;35mklapar\u001b[0m\u001b[2;35m \u001b[0m \u001b[2;37m \u001b[0m\u001b[2;37mPowiat słupski, Polska\u001b[0m\u001b[2;37m \u001b[0m \n",
       " \u001b[2;36m           \u001b[0m \u001b[2;36m          \u001b[0m \u001b[2;32m \u001b[0m\u001b[2;32mGreenshield Lichen)                    \u001b[0m\u001b[2;32m \u001b[0m \u001b[2;34m              \u001b[0m \u001b[2;35m        \u001b[0m \u001b[2;37m                        \u001b[0m \n",
       "                                                                                                                   \n"
      ]
     },
     "metadata": {},
     "output_type": "display_data"
    },
    {
     "data": {
      "text/html": [
       "<pre style=\"white-space:pre;overflow-x:auto;line-height:normal;font-family:Menlo,'DejaVu Sans Mono',consolas,'Courier New',monospace\">                                                                                              \n",
       " <span style=\"color: #c0c0c0; text-decoration-color: #c0c0c0; font-weight: bold\"> ID        </span> <span style=\"color: #c0c0c0; text-decoration-color: #c0c0c0; font-weight: bold\"> Taxon ID </span> <span style=\"color: #c0c0c0; text-decoration-color: #c0c0c0; font-weight: bold\"> Taxon              </span> <span style=\"color: #c0c0c0; text-decoration-color: #c0c0c0; font-weight: bold\"> Observed on  </span> <span style=\"color: #c0c0c0; text-decoration-color: #c0c0c0; font-weight: bold\"> User   </span> <span style=\"color: #c0c0c0; text-decoration-color: #c0c0c0; font-weight: bold\"> Location               </span> \n",
       " ━━━━━━━━━━━━━━━━━━━━━━━━━━━━━━━━━━━━━━━━━━━━━━━━━━━━━━━━━━━━━━━━━━━━━━━━━━━━━━━━━━━━━━━━━━━━ \n",
       " <span style=\"color: #7fbfbf; text-decoration-color: #7fbfbf\"> 272009533 </span> <span style=\"color: #7fbfbf; text-decoration-color: #7fbfbf\"> 351727   </span> <span style=\"color: #7fbf7f; text-decoration-color: #7fbf7f\"> </span><span style=\"color: #7fbf7f; text-decoration-color: #7fbf7f; font-style: italic\">Pertusaria pertusa</span><span style=\"color: #7fbf7f; text-decoration-color: #7fbf7f\"> </span> <span style=\"color: #7f7fbf; text-decoration-color: #7f7fbf\"> Apr 21, 2025 </span> <span style=\"color: #bf7fbf; text-decoration-color: #bf7fbf\"> klapar </span> <span style=\"color: #dfdfdf; text-decoration-color: #dfdfdf\"> Powiat słupski, Polska </span> \n",
       "                                                                                              \n",
       "</pre>\n"
      ],
      "text/plain": [
       "                                                                                              \n",
       " \u001b[1;37m \u001b[0m\u001b[1;37mID       \u001b[0m\u001b[1;37m \u001b[0m \u001b[1;37m \u001b[0m\u001b[1;37mTaxon ID\u001b[0m\u001b[1;37m \u001b[0m \u001b[1;37m \u001b[0m\u001b[1;37mTaxon             \u001b[0m\u001b[1;37m \u001b[0m \u001b[1;37m \u001b[0m\u001b[1;37mObserved on \u001b[0m\u001b[1;37m \u001b[0m \u001b[1;37m \u001b[0m\u001b[1;37mUser  \u001b[0m\u001b[1;37m \u001b[0m \u001b[1;37m \u001b[0m\u001b[1;37mLocation              \u001b[0m\u001b[1;37m \u001b[0m \n",
       " ━━━━━━━━━━━━━━━━━━━━━━━━━━━━━━━━━━━━━━━━━━━━━━━━━━━━━━━━━━━━━━━━━━━━━━━━━━━━━━━━━━━━━━━━━━━━ \n",
       " \u001b[2;36m \u001b[0m\u001b[2;36m272009533\u001b[0m\u001b[2;36m \u001b[0m \u001b[2;36m \u001b[0m\u001b[2;36m351727  \u001b[0m\u001b[2;36m \u001b[0m \u001b[2;32m \u001b[0m\u001b[2;3;32mPertusaria pertusa\u001b[0m\u001b[2;32m \u001b[0m \u001b[2;34m \u001b[0m\u001b[2;34mApr 21, 2025\u001b[0m\u001b[2;34m \u001b[0m \u001b[2;35m \u001b[0m\u001b[2;35mklapar\u001b[0m\u001b[2;35m \u001b[0m \u001b[2;37m \u001b[0m\u001b[2;37mPowiat słupski, Polska\u001b[0m\u001b[2;37m \u001b[0m \n",
       "                                                                                              \n"
      ]
     },
     "metadata": {},
     "output_type": "display_data"
    },
    {
     "data": {
      "text/html": [
       "<pre style=\"white-space:pre;overflow-x:auto;line-height:normal;font-family:Menlo,'DejaVu Sans Mono',consolas,'Courier New',monospace\">                                                                                                                   \n",
       " <span style=\"color: #c0c0c0; text-decoration-color: #c0c0c0; font-weight: bold\"> ID        </span> <span style=\"color: #c0c0c0; text-decoration-color: #c0c0c0; font-weight: bold\"> Taxon ID </span> <span style=\"color: #c0c0c0; text-decoration-color: #c0c0c0; font-weight: bold\"> Taxon                                   </span> <span style=\"color: #c0c0c0; text-decoration-color: #c0c0c0; font-weight: bold\"> Observed on  </span> <span style=\"color: #c0c0c0; text-decoration-color: #c0c0c0; font-weight: bold\"> User   </span> <span style=\"color: #c0c0c0; text-decoration-color: #c0c0c0; font-weight: bold\"> Location               </span> \n",
       " ━━━━━━━━━━━━━━━━━━━━━━━━━━━━━━━━━━━━━━━━━━━━━━━━━━━━━━━━━━━━━━━━━━━━━━━━━━━━━━━━━━━━━━━━━━━━━━━━━━━━━━━━━━━━━━━━━ \n",
       " <span style=\"color: #7fbfbf; text-decoration-color: #7fbfbf\"> 272009509 </span> <span style=\"color: #7fbfbf; text-decoration-color: #7fbfbf\"> 54758    </span> <span style=\"color: #7fbf7f; text-decoration-color: #7fbf7f\"> </span><span style=\"color: #7fbf7f; text-decoration-color: #7fbf7f; font-style: italic\">Ramalina farinacea</span><span style=\"color: #7fbf7f; text-decoration-color: #7fbf7f\"> (Farinose Cartilage  </span> <span style=\"color: #7f7fbf; text-decoration-color: #7f7fbf\"> Apr 21, 2025 </span> <span style=\"color: #bf7fbf; text-decoration-color: #bf7fbf\"> klapar </span> <span style=\"color: #dfdfdf; text-decoration-color: #dfdfdf\"> Powiat słupski, Polska </span> \n",
       " <span style=\"color: #7fbfbf; text-decoration-color: #7fbfbf\">           </span> <span style=\"color: #7fbfbf; text-decoration-color: #7fbfbf\">          </span> <span style=\"color: #7fbf7f; text-decoration-color: #7fbf7f\"> Lichen)                                 </span> <span style=\"color: #7f7fbf; text-decoration-color: #7f7fbf\">              </span> <span style=\"color: #bf7fbf; text-decoration-color: #bf7fbf\">        </span> <span style=\"color: #dfdfdf; text-decoration-color: #dfdfdf\">                        </span> \n",
       "                                                                                                                   \n",
       "</pre>\n"
      ],
      "text/plain": [
       "                                                                                                                   \n",
       " \u001b[1;37m \u001b[0m\u001b[1;37mID       \u001b[0m\u001b[1;37m \u001b[0m \u001b[1;37m \u001b[0m\u001b[1;37mTaxon ID\u001b[0m\u001b[1;37m \u001b[0m \u001b[1;37m \u001b[0m\u001b[1;37mTaxon                                  \u001b[0m\u001b[1;37m \u001b[0m \u001b[1;37m \u001b[0m\u001b[1;37mObserved on \u001b[0m\u001b[1;37m \u001b[0m \u001b[1;37m \u001b[0m\u001b[1;37mUser  \u001b[0m\u001b[1;37m \u001b[0m \u001b[1;37m \u001b[0m\u001b[1;37mLocation              \u001b[0m\u001b[1;37m \u001b[0m \n",
       " ━━━━━━━━━━━━━━━━━━━━━━━━━━━━━━━━━━━━━━━━━━━━━━━━━━━━━━━━━━━━━━━━━━━━━━━━━━━━━━━━━━━━━━━━━━━━━━━━━━━━━━━━━━━━━━━━━ \n",
       " \u001b[2;36m \u001b[0m\u001b[2;36m272009509\u001b[0m\u001b[2;36m \u001b[0m \u001b[2;36m \u001b[0m\u001b[2;36m54758   \u001b[0m\u001b[2;36m \u001b[0m \u001b[2;32m \u001b[0m\u001b[2;3;32mRamalina farinacea\u001b[0m\u001b[2;32m (Farinose Cartilage \u001b[0m\u001b[2;32m \u001b[0m \u001b[2;34m \u001b[0m\u001b[2;34mApr 21, 2025\u001b[0m\u001b[2;34m \u001b[0m \u001b[2;35m \u001b[0m\u001b[2;35mklapar\u001b[0m\u001b[2;35m \u001b[0m \u001b[2;37m \u001b[0m\u001b[2;37mPowiat słupski, Polska\u001b[0m\u001b[2;37m \u001b[0m \n",
       " \u001b[2;36m           \u001b[0m \u001b[2;36m          \u001b[0m \u001b[2;32m \u001b[0m\u001b[2;32mLichen)                                \u001b[0m\u001b[2;32m \u001b[0m \u001b[2;34m              \u001b[0m \u001b[2;35m        \u001b[0m \u001b[2;37m                        \u001b[0m \n",
       "                                                                                                                   \n"
      ]
     },
     "metadata": {},
     "output_type": "display_data"
    },
    {
     "data": {
      "text/html": [
       "<pre style=\"white-space:pre;overflow-x:auto;line-height:normal;font-family:Menlo,'DejaVu Sans Mono',consolas,'Courier New',monospace\">                                                                                                                   \n",
       " <span style=\"color: #c0c0c0; text-decoration-color: #c0c0c0; font-weight: bold\"> ID        </span> <span style=\"color: #c0c0c0; text-decoration-color: #c0c0c0; font-weight: bold\"> Taxon ID </span> <span style=\"color: #c0c0c0; text-decoration-color: #c0c0c0; font-weight: bold\"> Taxon                             </span> <span style=\"color: #c0c0c0; text-decoration-color: #c0c0c0; font-weight: bold\"> Observed on  </span> <span style=\"color: #c0c0c0; text-decoration-color: #c0c0c0; font-weight: bold\"> User       </span> <span style=\"color: #c0c0c0; text-decoration-color: #c0c0c0; font-weight: bold\"> Location                 </span> \n",
       " ━━━━━━━━━━━━━━━━━━━━━━━━━━━━━━━━━━━━━━━━━━━━━━━━━━━━━━━━━━━━━━━━━━━━━━━━━━━━━━━━━━━━━━━━━━━━━━━━━━━━━━━━━━━━━━━━━ \n",
       " <span style=\"color: #7fbfbf; text-decoration-color: #7fbfbf\"> 272008847 </span> <span style=\"color: #7fbfbf; text-decoration-color: #7fbfbf\"> 117874   </span> <span style=\"color: #7fbf7f; text-decoration-color: #7fbf7f\"> </span><span style=\"color: #7fbf7f; text-decoration-color: #7fbf7f; font-style: italic\">Platismatia glauca</span><span style=\"color: #7fbf7f; text-decoration-color: #7fbf7f\"> (Varied Rag    </span> <span style=\"color: #7f7fbf; text-decoration-color: #7f7fbf\"> Apr 14, 2025 </span> <span style=\"color: #bf7fbf; text-decoration-color: #bf7fbf\"> paraslotta </span> <span style=\"color: #dfdfdf; text-decoration-color: #dfdfdf\"> Terälahti, Pirkanmaa, FI </span> \n",
       " <span style=\"color: #7fbfbf; text-decoration-color: #7fbfbf\">           </span> <span style=\"color: #7fbfbf; text-decoration-color: #7fbfbf\">          </span> <span style=\"color: #7fbf7f; text-decoration-color: #7fbf7f\"> Lichen)                           </span> <span style=\"color: #7f7fbf; text-decoration-color: #7f7fbf\">              </span> <span style=\"color: #bf7fbf; text-decoration-color: #bf7fbf\">            </span> <span style=\"color: #dfdfdf; text-decoration-color: #dfdfdf\">                          </span> \n",
       "                                                                                                                   \n",
       "</pre>\n"
      ],
      "text/plain": [
       "                                                                                                                   \n",
       " \u001b[1;37m \u001b[0m\u001b[1;37mID       \u001b[0m\u001b[1;37m \u001b[0m \u001b[1;37m \u001b[0m\u001b[1;37mTaxon ID\u001b[0m\u001b[1;37m \u001b[0m \u001b[1;37m \u001b[0m\u001b[1;37mTaxon                            \u001b[0m\u001b[1;37m \u001b[0m \u001b[1;37m \u001b[0m\u001b[1;37mObserved on \u001b[0m\u001b[1;37m \u001b[0m \u001b[1;37m \u001b[0m\u001b[1;37mUser      \u001b[0m\u001b[1;37m \u001b[0m \u001b[1;37m \u001b[0m\u001b[1;37mLocation                \u001b[0m\u001b[1;37m \u001b[0m \n",
       " ━━━━━━━━━━━━━━━━━━━━━━━━━━━━━━━━━━━━━━━━━━━━━━━━━━━━━━━━━━━━━━━━━━━━━━━━━━━━━━━━━━━━━━━━━━━━━━━━━━━━━━━━━━━━━━━━━ \n",
       " \u001b[2;36m \u001b[0m\u001b[2;36m272008847\u001b[0m\u001b[2;36m \u001b[0m \u001b[2;36m \u001b[0m\u001b[2;36m117874  \u001b[0m\u001b[2;36m \u001b[0m \u001b[2;32m \u001b[0m\u001b[2;3;32mPlatismatia glauca\u001b[0m\u001b[2;32m (Varied Rag   \u001b[0m\u001b[2;32m \u001b[0m \u001b[2;34m \u001b[0m\u001b[2;34mApr 14, 2025\u001b[0m\u001b[2;34m \u001b[0m \u001b[2;35m \u001b[0m\u001b[2;35mparaslotta\u001b[0m\u001b[2;35m \u001b[0m \u001b[2;37m \u001b[0m\u001b[2;37mTerälahti, Pirkanmaa, FI\u001b[0m\u001b[2;37m \u001b[0m \n",
       " \u001b[2;36m           \u001b[0m \u001b[2;36m          \u001b[0m \u001b[2;32m \u001b[0m\u001b[2;32mLichen)                          \u001b[0m\u001b[2;32m \u001b[0m \u001b[2;34m              \u001b[0m \u001b[2;35m            \u001b[0m \u001b[2;37m                          \u001b[0m \n",
       "                                                                                                                   \n"
      ]
     },
     "metadata": {},
     "output_type": "display_data"
    },
    {
     "data": {
      "text/html": [
       "<pre style=\"white-space:pre;overflow-x:auto;line-height:normal;font-family:Menlo,'DejaVu Sans Mono',consolas,'Courier New',monospace\">                                                                                                                   \n",
       " <span style=\"color: #c0c0c0; text-decoration-color: #c0c0c0; font-weight: bold\"> ID        </span> <span style=\"color: #c0c0c0; text-decoration-color: #c0c0c0; font-weight: bold\"> Taxon ID </span> <span style=\"color: #c0c0c0; text-decoration-color: #c0c0c0; font-weight: bold\"> Taxon                       </span> <span style=\"color: #c0c0c0; text-decoration-color: #c0c0c0; font-weight: bold\"> Observed on  </span> <span style=\"color: #c0c0c0; text-decoration-color: #c0c0c0; font-weight: bold\"> User         </span> <span style=\"color: #c0c0c0; text-decoration-color: #c0c0c0; font-weight: bold\"> Location                     </span> \n",
       " ━━━━━━━━━━━━━━━━━━━━━━━━━━━━━━━━━━━━━━━━━━━━━━━━━━━━━━━━━━━━━━━━━━━━━━━━━━━━━━━━━━━━━━━━━━━━━━━━━━━━━━━━━━━━━━━━━ \n",
       " <span style=\"color: #7fbfbf; text-decoration-color: #7fbfbf\"> 272008718 </span> <span style=\"color: #7fbfbf; text-decoration-color: #7fbfbf\"> 117874   </span> <span style=\"color: #7fbf7f; text-decoration-color: #7fbf7f\"> </span><span style=\"color: #7fbf7f; text-decoration-color: #7fbf7f; font-style: italic\">Platismatia glauca</span><span style=\"color: #7fbf7f; text-decoration-color: #7fbf7f\"> (Varied  </span> <span style=\"color: #7f7fbf; text-decoration-color: #7f7fbf\"> Apr 21, 2025 </span> <span style=\"color: #bf7fbf; text-decoration-color: #bf7fbf\"> rruusunnuppu </span> <span style=\"color: #dfdfdf; text-decoration-color: #dfdfdf\"> Lappeenranta, Etelä-Karjala, </span> \n",
       " <span style=\"color: #7fbfbf; text-decoration-color: #7fbfbf\">           </span> <span style=\"color: #7fbfbf; text-decoration-color: #7fbfbf\">          </span> <span style=\"color: #7fbf7f; text-decoration-color: #7fbf7f\"> Rag Lichen)                 </span> <span style=\"color: #7f7fbf; text-decoration-color: #7f7fbf\">              </span> <span style=\"color: #bf7fbf; text-decoration-color: #bf7fbf\">              </span> <span style=\"color: #dfdfdf; text-decoration-color: #dfdfdf\"> FI                           </span> \n",
       "                                                                                                                   \n",
       "</pre>\n"
      ],
      "text/plain": [
       "                                                                                                                   \n",
       " \u001b[1;37m \u001b[0m\u001b[1;37mID       \u001b[0m\u001b[1;37m \u001b[0m \u001b[1;37m \u001b[0m\u001b[1;37mTaxon ID\u001b[0m\u001b[1;37m \u001b[0m \u001b[1;37m \u001b[0m\u001b[1;37mTaxon                      \u001b[0m\u001b[1;37m \u001b[0m \u001b[1;37m \u001b[0m\u001b[1;37mObserved on \u001b[0m\u001b[1;37m \u001b[0m \u001b[1;37m \u001b[0m\u001b[1;37mUser        \u001b[0m\u001b[1;37m \u001b[0m \u001b[1;37m \u001b[0m\u001b[1;37mLocation                    \u001b[0m\u001b[1;37m \u001b[0m \n",
       " ━━━━━━━━━━━━━━━━━━━━━━━━━━━━━━━━━━━━━━━━━━━━━━━━━━━━━━━━━━━━━━━━━━━━━━━━━━━━━━━━━━━━━━━━━━━━━━━━━━━━━━━━━━━━━━━━━ \n",
       " \u001b[2;36m \u001b[0m\u001b[2;36m272008718\u001b[0m\u001b[2;36m \u001b[0m \u001b[2;36m \u001b[0m\u001b[2;36m117874  \u001b[0m\u001b[2;36m \u001b[0m \u001b[2;32m \u001b[0m\u001b[2;3;32mPlatismatia glauca\u001b[0m\u001b[2;32m (Varied \u001b[0m\u001b[2;32m \u001b[0m \u001b[2;34m \u001b[0m\u001b[2;34mApr 21, 2025\u001b[0m\u001b[2;34m \u001b[0m \u001b[2;35m \u001b[0m\u001b[2;35mrruusunnuppu\u001b[0m\u001b[2;35m \u001b[0m \u001b[2;37m \u001b[0m\u001b[2;37mLappeenranta, Etelä-Karjala,\u001b[0m\u001b[2;37m \u001b[0m \n",
       " \u001b[2;36m           \u001b[0m \u001b[2;36m          \u001b[0m \u001b[2;32m \u001b[0m\u001b[2;32mRag Lichen)                \u001b[0m\u001b[2;32m \u001b[0m \u001b[2;34m              \u001b[0m \u001b[2;35m              \u001b[0m \u001b[2;37m \u001b[0m\u001b[2;37mFI                          \u001b[0m\u001b[2;37m \u001b[0m \n",
       "                                                                                                                   \n"
      ]
     },
     "metadata": {},
     "output_type": "display_data"
    },
    {
     "data": {
      "text/html": [
       "<pre style=\"white-space:pre;overflow-x:auto;line-height:normal;font-family:Menlo,'DejaVu Sans Mono',consolas,'Courier New',monospace\">                                                                                                                  \n",
       " <span style=\"color: #c0c0c0; text-decoration-color: #c0c0c0; font-weight: bold\"> ID        </span> <span style=\"color: #c0c0c0; text-decoration-color: #c0c0c0; font-weight: bold\"> Taxon ID </span> <span style=\"color: #c0c0c0; text-decoration-color: #c0c0c0; font-weight: bold\"> Taxon                                        </span> <span style=\"color: #c0c0c0; text-decoration-color: #c0c0c0; font-weight: bold\"> Observed on  </span> <span style=\"color: #c0c0c0; text-decoration-color: #c0c0c0; font-weight: bold\"> User       </span> <span style=\"color: #c0c0c0; text-decoration-color: #c0c0c0; font-weight: bold\"> Location     </span> \n",
       " ━━━━━━━━━━━━━━━━━━━━━━━━━━━━━━━━━━━━━━━━━━━━━━━━━━━━━━━━━━━━━━━━━━━━━━━━━━━━━━━━━━━━━━━━━━━━━━━━━━━━━━━━━━━━━━━━ \n",
       " <span style=\"color: #7fbfbf; text-decoration-color: #7fbfbf\"> 272008682 </span> <span style=\"color: #7fbfbf; text-decoration-color: #7fbfbf\"> 55576    </span> <span style=\"color: #7fbf7f; text-decoration-color: #7fbf7f\"> </span><span style=\"color: #7fbf7f; text-decoration-color: #7fbf7f; font-style: italic\">Xanthoria parietina</span><span style=\"color: #7fbf7f; text-decoration-color: #7fbf7f\"> (Common Sunburst Lichen) </span> <span style=\"color: #7f7fbf; text-decoration-color: #7f7fbf\"> Apr 21, 2025 </span> <span style=\"color: #bf7fbf; text-decoration-color: #bf7fbf\"> catiamatos </span> <span style=\"color: #dfdfdf; text-decoration-color: #dfdfdf\"> Hull HU6, UK </span> \n",
       "                                                                                                                  \n",
       "</pre>\n"
      ],
      "text/plain": [
       "                                                                                                                  \n",
       " \u001b[1;37m \u001b[0m\u001b[1;37mID       \u001b[0m\u001b[1;37m \u001b[0m \u001b[1;37m \u001b[0m\u001b[1;37mTaxon ID\u001b[0m\u001b[1;37m \u001b[0m \u001b[1;37m \u001b[0m\u001b[1;37mTaxon                                       \u001b[0m\u001b[1;37m \u001b[0m \u001b[1;37m \u001b[0m\u001b[1;37mObserved on \u001b[0m\u001b[1;37m \u001b[0m \u001b[1;37m \u001b[0m\u001b[1;37mUser      \u001b[0m\u001b[1;37m \u001b[0m \u001b[1;37m \u001b[0m\u001b[1;37mLocation    \u001b[0m\u001b[1;37m \u001b[0m \n",
       " ━━━━━━━━━━━━━━━━━━━━━━━━━━━━━━━━━━━━━━━━━━━━━━━━━━━━━━━━━━━━━━━━━━━━━━━━━━━━━━━━━━━━━━━━━━━━━━━━━━━━━━━━━━━━━━━━ \n",
       " \u001b[2;36m \u001b[0m\u001b[2;36m272008682\u001b[0m\u001b[2;36m \u001b[0m \u001b[2;36m \u001b[0m\u001b[2;36m55576   \u001b[0m\u001b[2;36m \u001b[0m \u001b[2;32m \u001b[0m\u001b[2;3;32mXanthoria parietina\u001b[0m\u001b[2;32m (Common Sunburst Lichen)\u001b[0m\u001b[2;32m \u001b[0m \u001b[2;34m \u001b[0m\u001b[2;34mApr 21, 2025\u001b[0m\u001b[2;34m \u001b[0m \u001b[2;35m \u001b[0m\u001b[2;35mcatiamatos\u001b[0m\u001b[2;35m \u001b[0m \u001b[2;37m \u001b[0m\u001b[2;37mHull HU6, UK\u001b[0m\u001b[2;37m \u001b[0m \n",
       "                                                                                                                  \n"
      ]
     },
     "metadata": {},
     "output_type": "display_data"
    },
    {
     "data": {
      "text/html": [
       "<pre style=\"white-space:pre;overflow-x:auto;line-height:normal;font-family:Menlo,'DejaVu Sans Mono',consolas,'Courier New',monospace\">                                                                                                                   \n",
       " <span style=\"color: #c0c0c0; text-decoration-color: #c0c0c0; font-weight: bold\"> ID        </span> <span style=\"color: #c0c0c0; text-decoration-color: #c0c0c0; font-weight: bold\"> Taxon ID </span> <span style=\"color: #c0c0c0; text-decoration-color: #c0c0c0; font-weight: bold\"> Taxon                               </span> <span style=\"color: #c0c0c0; text-decoration-color: #c0c0c0; font-weight: bold\"> Observed on  </span> <span style=\"color: #c0c0c0; text-decoration-color: #c0c0c0; font-weight: bold\"> User        </span> <span style=\"color: #c0c0c0; text-decoration-color: #c0c0c0; font-weight: bold\"> Location              </span> \n",
       " ━━━━━━━━━━━━━━━━━━━━━━━━━━━━━━━━━━━━━━━━━━━━━━━━━━━━━━━━━━━━━━━━━━━━━━━━━━━━━━━━━━━━━━━━━━━━━━━━━━━━━━━━━━━━━━━━━ \n",
       " <span style=\"color: #7fbfbf; text-decoration-color: #7fbfbf\"> 272007225 </span> <span style=\"color: #7fbfbf; text-decoration-color: #7fbfbf\"> 117943   </span> <span style=\"color: #7fbf7f; text-decoration-color: #7fbf7f\"> </span><span style=\"color: #7fbf7f; text-decoration-color: #7fbf7f; font-style: italic\">Flavoparmelia caperata</span><span style=\"color: #7fbf7f; text-decoration-color: #7fbf7f\"> (Common      </span> <span style=\"color: #7f7fbf; text-decoration-color: #7f7fbf\"> Apr 21, 2025 </span> <span style=\"color: #bf7fbf; text-decoration-color: #bf7fbf\"> jasonrgrant </span> <span style=\"color: #dfdfdf; text-decoration-color: #dfdfdf\"> Düdingen, Switzerland </span> \n",
       " <span style=\"color: #7fbfbf; text-decoration-color: #7fbfbf\">           </span> <span style=\"color: #7fbfbf; text-decoration-color: #7fbfbf\">          </span> <span style=\"color: #7fbf7f; text-decoration-color: #7fbf7f\"> Greenshield Lichen)                 </span> <span style=\"color: #7f7fbf; text-decoration-color: #7f7fbf\">              </span> <span style=\"color: #bf7fbf; text-decoration-color: #bf7fbf\">             </span> <span style=\"color: #dfdfdf; text-decoration-color: #dfdfdf\">                       </span> \n",
       "                                                                                                                   \n",
       "</pre>\n"
      ],
      "text/plain": [
       "                                                                                                                   \n",
       " \u001b[1;37m \u001b[0m\u001b[1;37mID       \u001b[0m\u001b[1;37m \u001b[0m \u001b[1;37m \u001b[0m\u001b[1;37mTaxon ID\u001b[0m\u001b[1;37m \u001b[0m \u001b[1;37m \u001b[0m\u001b[1;37mTaxon                              \u001b[0m\u001b[1;37m \u001b[0m \u001b[1;37m \u001b[0m\u001b[1;37mObserved on \u001b[0m\u001b[1;37m \u001b[0m \u001b[1;37m \u001b[0m\u001b[1;37mUser       \u001b[0m\u001b[1;37m \u001b[0m \u001b[1;37m \u001b[0m\u001b[1;37mLocation             \u001b[0m\u001b[1;37m \u001b[0m \n",
       " ━━━━━━━━━━━━━━━━━━━━━━━━━━━━━━━━━━━━━━━━━━━━━━━━━━━━━━━━━━━━━━━━━━━━━━━━━━━━━━━━━━━━━━━━━━━━━━━━━━━━━━━━━━━━━━━━━ \n",
       " \u001b[2;36m \u001b[0m\u001b[2;36m272007225\u001b[0m\u001b[2;36m \u001b[0m \u001b[2;36m \u001b[0m\u001b[2;36m117943  \u001b[0m\u001b[2;36m \u001b[0m \u001b[2;32m \u001b[0m\u001b[2;3;32mFlavoparmelia caperata\u001b[0m\u001b[2;32m (Common     \u001b[0m\u001b[2;32m \u001b[0m \u001b[2;34m \u001b[0m\u001b[2;34mApr 21, 2025\u001b[0m\u001b[2;34m \u001b[0m \u001b[2;35m \u001b[0m\u001b[2;35mjasonrgrant\u001b[0m\u001b[2;35m \u001b[0m \u001b[2;37m \u001b[0m\u001b[2;37mDüdingen, Switzerland\u001b[0m\u001b[2;37m \u001b[0m \n",
       " \u001b[2;36m           \u001b[0m \u001b[2;36m          \u001b[0m \u001b[2;32m \u001b[0m\u001b[2;32mGreenshield Lichen)                \u001b[0m\u001b[2;32m \u001b[0m \u001b[2;34m              \u001b[0m \u001b[2;35m             \u001b[0m \u001b[2;37m                       \u001b[0m \n",
       "                                                                                                                   \n"
      ]
     },
     "metadata": {},
     "output_type": "display_data"
    },
    {
     "data": {
      "text/html": [
       "<pre style=\"white-space:pre;overflow-x:auto;line-height:normal;font-family:Menlo,'DejaVu Sans Mono',consolas,'Courier New',monospace\">                                                                                                                   \n",
       " <span style=\"color: #c0c0c0; text-decoration-color: #c0c0c0; font-weight: bold\"> ID        </span> <span style=\"color: #c0c0c0; text-decoration-color: #c0c0c0; font-weight: bold\"> Taxon ID </span> <span style=\"color: #c0c0c0; text-decoration-color: #c0c0c0; font-weight: bold\"> Taxon                       </span> <span style=\"color: #c0c0c0; text-decoration-color: #c0c0c0; font-weight: bold\"> Observed on  </span> <span style=\"color: #c0c0c0; text-decoration-color: #c0c0c0; font-weight: bold\"> User         </span> <span style=\"color: #c0c0c0; text-decoration-color: #c0c0c0; font-weight: bold\"> Location                     </span> \n",
       " ━━━━━━━━━━━━━━━━━━━━━━━━━━━━━━━━━━━━━━━━━━━━━━━━━━━━━━━━━━━━━━━━━━━━━━━━━━━━━━━━━━━━━━━━━━━━━━━━━━━━━━━━━━━━━━━━━ \n",
       " <span style=\"color: #7fbfbf; text-decoration-color: #7fbfbf\"> 272006269 </span> <span style=\"color: #7fbfbf; text-decoration-color: #7fbfbf\"> 180450   </span> <span style=\"color: #7fbf7f; text-decoration-color: #7fbf7f\"> </span><span style=\"color: #7fbf7f; text-decoration-color: #7fbf7f; font-style: italic\">Cetraria islandica</span><span style=\"color: #7fbf7f; text-decoration-color: #7fbf7f\"> (Iceland </span> <span style=\"color: #7f7fbf; text-decoration-color: #7f7fbf\"> Apr 21, 2025 </span> <span style=\"color: #bf7fbf; text-decoration-color: #bf7fbf\"> rruusunnuppu </span> <span style=\"color: #dfdfdf; text-decoration-color: #dfdfdf\"> Lappeenranta, Etelä-Karjala, </span> \n",
       " <span style=\"color: #7fbfbf; text-decoration-color: #7fbfbf\">           </span> <span style=\"color: #7fbfbf; text-decoration-color: #7fbfbf\">          </span> <span style=\"color: #7fbf7f; text-decoration-color: #7fbf7f\"> Lichen)                     </span> <span style=\"color: #7f7fbf; text-decoration-color: #7f7fbf\">              </span> <span style=\"color: #bf7fbf; text-decoration-color: #bf7fbf\">              </span> <span style=\"color: #dfdfdf; text-decoration-color: #dfdfdf\"> FI                           </span> \n",
       "                                                                                                                   \n",
       "</pre>\n"
      ],
      "text/plain": [
       "                                                                                                                   \n",
       " \u001b[1;37m \u001b[0m\u001b[1;37mID       \u001b[0m\u001b[1;37m \u001b[0m \u001b[1;37m \u001b[0m\u001b[1;37mTaxon ID\u001b[0m\u001b[1;37m \u001b[0m \u001b[1;37m \u001b[0m\u001b[1;37mTaxon                      \u001b[0m\u001b[1;37m \u001b[0m \u001b[1;37m \u001b[0m\u001b[1;37mObserved on \u001b[0m\u001b[1;37m \u001b[0m \u001b[1;37m \u001b[0m\u001b[1;37mUser        \u001b[0m\u001b[1;37m \u001b[0m \u001b[1;37m \u001b[0m\u001b[1;37mLocation                    \u001b[0m\u001b[1;37m \u001b[0m \n",
       " ━━━━━━━━━━━━━━━━━━━━━━━━━━━━━━━━━━━━━━━━━━━━━━━━━━━━━━━━━━━━━━━━━━━━━━━━━━━━━━━━━━━━━━━━━━━━━━━━━━━━━━━━━━━━━━━━━ \n",
       " \u001b[2;36m \u001b[0m\u001b[2;36m272006269\u001b[0m\u001b[2;36m \u001b[0m \u001b[2;36m \u001b[0m\u001b[2;36m180450  \u001b[0m\u001b[2;36m \u001b[0m \u001b[2;32m \u001b[0m\u001b[2;3;32mCetraria islandica\u001b[0m\u001b[2;32m (Iceland\u001b[0m\u001b[2;32m \u001b[0m \u001b[2;34m \u001b[0m\u001b[2;34mApr 21, 2025\u001b[0m\u001b[2;34m \u001b[0m \u001b[2;35m \u001b[0m\u001b[2;35mrruusunnuppu\u001b[0m\u001b[2;35m \u001b[0m \u001b[2;37m \u001b[0m\u001b[2;37mLappeenranta, Etelä-Karjala,\u001b[0m\u001b[2;37m \u001b[0m \n",
       " \u001b[2;36m           \u001b[0m \u001b[2;36m          \u001b[0m \u001b[2;32m \u001b[0m\u001b[2;32mLichen)                    \u001b[0m\u001b[2;32m \u001b[0m \u001b[2;34m              \u001b[0m \u001b[2;35m              \u001b[0m \u001b[2;37m \u001b[0m\u001b[2;37mFI                          \u001b[0m\u001b[2;37m \u001b[0m \n",
       "                                                                                                                   \n"
      ]
     },
     "metadata": {},
     "output_type": "display_data"
    },
    {
     "data": {
      "text/html": [
       "<pre style=\"white-space:pre;overflow-x:auto;line-height:normal;font-family:Menlo,'DejaVu Sans Mono',consolas,'Courier New',monospace\">                                                                                                                   \n",
       " <span style=\"color: #c0c0c0; text-decoration-color: #c0c0c0; font-weight: bold\"> ID        </span> <span style=\"color: #c0c0c0; text-decoration-color: #c0c0c0; font-weight: bold\"> Taxon ID </span> <span style=\"color: #c0c0c0; text-decoration-color: #c0c0c0; font-weight: bold\"> Taxon                      </span> <span style=\"color: #c0c0c0; text-decoration-color: #c0c0c0; font-weight: bold\"> Observed on  </span> <span style=\"color: #c0c0c0; text-decoration-color: #c0c0c0; font-weight: bold\"> User            </span> <span style=\"color: #c0c0c0; text-decoration-color: #c0c0c0; font-weight: bold\"> Location                   </span> \n",
       " ━━━━━━━━━━━━━━━━━━━━━━━━━━━━━━━━━━━━━━━━━━━━━━━━━━━━━━━━━━━━━━━━━━━━━━━━━━━━━━━━━━━━━━━━━━━━━━━━━━━━━━━━━━━━━━━━━ \n",
       " <span style=\"color: #7fbfbf; text-decoration-color: #7fbfbf\"> 272003357 </span> <span style=\"color: #7fbfbf; text-decoration-color: #7fbfbf\"> 220028   </span> <span style=\"color: #7fbf7f; text-decoration-color: #7fbf7f\"> </span><span style=\"color: #7fbf7f; text-decoration-color: #7fbf7f; font-style: italic\">Evernia divaricata</span><span style=\"color: #7fbf7f; text-decoration-color: #7fbf7f\">         </span> <span style=\"color: #7f7fbf; text-decoration-color: #7f7fbf\"> Jul 31, 2024 </span> <span style=\"color: #bf7fbf; text-decoration-color: #bf7fbf\"> juri_nascimbene </span> <span style=\"color: #dfdfdf; text-decoration-color: #dfdfdf\"> Parco Nazionale Dello      </span> \n",
       " <span style=\"color: #7fbfbf; text-decoration-color: #7fbfbf\">           </span> <span style=\"color: #7fbfbf; text-decoration-color: #7fbfbf\">          </span> <span style=\"color: #7fbf7f; text-decoration-color: #7fbf7f\"> (Mountain Oakmoss Lichen)  </span> <span style=\"color: #7f7fbf; text-decoration-color: #7f7fbf\">              </span> <span style=\"color: #bf7fbf; text-decoration-color: #bf7fbf\">                 </span> <span style=\"color: #dfdfdf; text-decoration-color: #dfdfdf\"> Stelvio, Pellizzano,       </span> \n",
       " <span style=\"color: #7fbfbf; text-decoration-color: #7fbfbf\">           </span> <span style=\"color: #7fbfbf; text-decoration-color: #7fbfbf\">          </span> <span style=\"color: #7fbf7f; text-decoration-color: #7fbf7f\">                            </span> <span style=\"color: #7f7fbf; text-decoration-color: #7f7fbf\">              </span> <span style=\"color: #bf7fbf; text-decoration-color: #bf7fbf\">                 </span> <span style=\"color: #dfdfdf; text-decoration-color: #dfdfdf\"> Trentino-Alto Adige, IT    </span> \n",
       "                                                                                                                   \n",
       "</pre>\n"
      ],
      "text/plain": [
       "                                                                                                                   \n",
       " \u001b[1;37m \u001b[0m\u001b[1;37mID       \u001b[0m\u001b[1;37m \u001b[0m \u001b[1;37m \u001b[0m\u001b[1;37mTaxon ID\u001b[0m\u001b[1;37m \u001b[0m \u001b[1;37m \u001b[0m\u001b[1;37mTaxon                     \u001b[0m\u001b[1;37m \u001b[0m \u001b[1;37m \u001b[0m\u001b[1;37mObserved on \u001b[0m\u001b[1;37m \u001b[0m \u001b[1;37m \u001b[0m\u001b[1;37mUser           \u001b[0m\u001b[1;37m \u001b[0m \u001b[1;37m \u001b[0m\u001b[1;37mLocation                  \u001b[0m\u001b[1;37m \u001b[0m \n",
       " ━━━━━━━━━━━━━━━━━━━━━━━━━━━━━━━━━━━━━━━━━━━━━━━━━━━━━━━━━━━━━━━━━━━━━━━━━━━━━━━━━━━━━━━━━━━━━━━━━━━━━━━━━━━━━━━━━ \n",
       " \u001b[2;36m \u001b[0m\u001b[2;36m272003357\u001b[0m\u001b[2;36m \u001b[0m \u001b[2;36m \u001b[0m\u001b[2;36m220028  \u001b[0m\u001b[2;36m \u001b[0m \u001b[2;32m \u001b[0m\u001b[2;3;32mEvernia divaricata\u001b[0m\u001b[2;32m        \u001b[0m\u001b[2;32m \u001b[0m \u001b[2;34m \u001b[0m\u001b[2;34mJul 31, 2024\u001b[0m\u001b[2;34m \u001b[0m \u001b[2;35m \u001b[0m\u001b[2;35mjuri_nascimbene\u001b[0m\u001b[2;35m \u001b[0m \u001b[2;37m \u001b[0m\u001b[2;37mParco Nazionale Dello     \u001b[0m\u001b[2;37m \u001b[0m \n",
       " \u001b[2;36m           \u001b[0m \u001b[2;36m          \u001b[0m \u001b[2;32m \u001b[0m\u001b[2;32m(Mountain Oakmoss Lichen) \u001b[0m\u001b[2;32m \u001b[0m \u001b[2;34m              \u001b[0m \u001b[2;35m                 \u001b[0m \u001b[2;37m \u001b[0m\u001b[2;37mStelvio, Pellizzano,      \u001b[0m\u001b[2;37m \u001b[0m \n",
       " \u001b[2;36m           \u001b[0m \u001b[2;36m          \u001b[0m \u001b[2;32m                            \u001b[0m \u001b[2;34m              \u001b[0m \u001b[2;35m                 \u001b[0m \u001b[2;37m \u001b[0m\u001b[2;37mTrentino-Alto Adige, IT   \u001b[0m\u001b[2;37m \u001b[0m \n",
       "                                                                                                                   \n"
      ]
     },
     "metadata": {},
     "output_type": "display_data"
    },
    {
     "data": {
      "text/html": [
       "<pre style=\"white-space:pre;overflow-x:auto;line-height:normal;font-family:Menlo,'DejaVu Sans Mono',consolas,'Courier New',monospace\">                                                                                                           \n",
       " <span style=\"color: #c0c0c0; text-decoration-color: #c0c0c0; font-weight: bold\"> ID        </span> <span style=\"color: #c0c0c0; text-decoration-color: #c0c0c0; font-weight: bold\"> Taxon ID </span> <span style=\"color: #c0c0c0; text-decoration-color: #c0c0c0; font-weight: bold\"> Taxon                              </span> <span style=\"color: #c0c0c0; text-decoration-color: #c0c0c0; font-weight: bold\"> Observed on  </span> <span style=\"color: #c0c0c0; text-decoration-color: #c0c0c0; font-weight: bold\"> User           </span> <span style=\"color: #c0c0c0; text-decoration-color: #c0c0c0; font-weight: bold\"> Location    </span> \n",
       " ━━━━━━━━━━━━━━━━━━━━━━━━━━━━━━━━━━━━━━━━━━━━━━━━━━━━━━━━━━━━━━━━━━━━━━━━━━━━━━━━━━━━━━━━━━━━━━━━━━━━━━━━━ \n",
       " <span style=\"color: #7fbfbf; text-decoration-color: #7fbfbf\"> 272001626 </span> <span style=\"color: #7fbfbf; text-decoration-color: #7fbfbf\"> 48711    </span> <span style=\"color: #7fbf7f; text-decoration-color: #7fbf7f\"> </span><span style=\"color: #7fbf7f; text-decoration-color: #7fbf7f; font-style: italic\">Lobaria pulmonaria</span><span style=\"color: #7fbf7f; text-decoration-color: #7fbf7f\"> (Tree Lungwort) </span> <span style=\"color: #7f7fbf; text-decoration-color: #7f7fbf\"> Apr 19, 2025 </span> <span style=\"color: #bf7fbf; text-decoration-color: #bf7fbf\"> juha_hellstrom </span> <span style=\"color: #dfdfdf; text-decoration-color: #dfdfdf\"> Oulu, Suomi </span> \n",
       "                                                                                                           \n",
       "</pre>\n"
      ],
      "text/plain": [
       "                                                                                                           \n",
       " \u001b[1;37m \u001b[0m\u001b[1;37mID       \u001b[0m\u001b[1;37m \u001b[0m \u001b[1;37m \u001b[0m\u001b[1;37mTaxon ID\u001b[0m\u001b[1;37m \u001b[0m \u001b[1;37m \u001b[0m\u001b[1;37mTaxon                             \u001b[0m\u001b[1;37m \u001b[0m \u001b[1;37m \u001b[0m\u001b[1;37mObserved on \u001b[0m\u001b[1;37m \u001b[0m \u001b[1;37m \u001b[0m\u001b[1;37mUser          \u001b[0m\u001b[1;37m \u001b[0m \u001b[1;37m \u001b[0m\u001b[1;37mLocation   \u001b[0m\u001b[1;37m \u001b[0m \n",
       " ━━━━━━━━━━━━━━━━━━━━━━━━━━━━━━━━━━━━━━━━━━━━━━━━━━━━━━━━━━━━━━━━━━━━━━━━━━━━━━━━━━━━━━━━━━━━━━━━━━━━━━━━━ \n",
       " \u001b[2;36m \u001b[0m\u001b[2;36m272001626\u001b[0m\u001b[2;36m \u001b[0m \u001b[2;36m \u001b[0m\u001b[2;36m48711   \u001b[0m\u001b[2;36m \u001b[0m \u001b[2;32m \u001b[0m\u001b[2;3;32mLobaria pulmonaria\u001b[0m\u001b[2;32m (Tree Lungwort)\u001b[0m\u001b[2;32m \u001b[0m \u001b[2;34m \u001b[0m\u001b[2;34mApr 19, 2025\u001b[0m\u001b[2;34m \u001b[0m \u001b[2;35m \u001b[0m\u001b[2;35mjuha_hellstrom\u001b[0m\u001b[2;35m \u001b[0m \u001b[2;37m \u001b[0m\u001b[2;37mOulu, Suomi\u001b[0m\u001b[2;37m \u001b[0m \n",
       "                                                                                                           \n"
      ]
     },
     "metadata": {},
     "output_type": "display_data"
    },
    {
     "data": {
      "text/html": [
       "<pre style=\"white-space:pre;overflow-x:auto;line-height:normal;font-family:Menlo,'DejaVu Sans Mono',consolas,'Courier New',monospace\">                                                                                                               \n",
       " <span style=\"color: #c0c0c0; text-decoration-color: #c0c0c0; font-weight: bold\"> ID        </span> <span style=\"color: #c0c0c0; text-decoration-color: #c0c0c0; font-weight: bold\"> Taxon ID </span> <span style=\"color: #c0c0c0; text-decoration-color: #c0c0c0; font-weight: bold\"> Taxon                                  </span> <span style=\"color: #c0c0c0; text-decoration-color: #c0c0c0; font-weight: bold\"> Observed on  </span> <span style=\"color: #c0c0c0; text-decoration-color: #c0c0c0; font-weight: bold\"> User    </span> <span style=\"color: #c0c0c0; text-decoration-color: #c0c0c0; font-weight: bold\"> Location           </span> \n",
       " ━━━━━━━━━━━━━━━━━━━━━━━━━━━━━━━━━━━━━━━━━━━━━━━━━━━━━━━━━━━━━━━━━━━━━━━━━━━━━━━━━━━━━━━━━━━━━━━━━━━━━━━━━━━━━ \n",
       " <span style=\"color: #7fbfbf; text-decoration-color: #7fbfbf\"> 272001288 </span> <span style=\"color: #7fbfbf; text-decoration-color: #7fbfbf\"> 117874   </span> <span style=\"color: #7fbf7f; text-decoration-color: #7fbf7f\"> </span><span style=\"color: #7fbf7f; text-decoration-color: #7fbf7f; font-style: italic\">Platismatia glauca</span><span style=\"color: #7fbf7f; text-decoration-color: #7fbf7f\"> (Varied Rag Lichen) </span> <span style=\"color: #7f7fbf; text-decoration-color: #7f7fbf\"> Apr 18, 2025 </span> <span style=\"color: #bf7fbf; text-decoration-color: #bf7fbf\"> rugbike </span> <span style=\"color: #dfdfdf; text-decoration-color: #dfdfdf\"> Espoo, Uusimaa, FI </span> \n",
       "                                                                                                               \n",
       "</pre>\n"
      ],
      "text/plain": [
       "                                                                                                               \n",
       " \u001b[1;37m \u001b[0m\u001b[1;37mID       \u001b[0m\u001b[1;37m \u001b[0m \u001b[1;37m \u001b[0m\u001b[1;37mTaxon ID\u001b[0m\u001b[1;37m \u001b[0m \u001b[1;37m \u001b[0m\u001b[1;37mTaxon                                 \u001b[0m\u001b[1;37m \u001b[0m \u001b[1;37m \u001b[0m\u001b[1;37mObserved on \u001b[0m\u001b[1;37m \u001b[0m \u001b[1;37m \u001b[0m\u001b[1;37mUser   \u001b[0m\u001b[1;37m \u001b[0m \u001b[1;37m \u001b[0m\u001b[1;37mLocation          \u001b[0m\u001b[1;37m \u001b[0m \n",
       " ━━━━━━━━━━━━━━━━━━━━━━━━━━━━━━━━━━━━━━━━━━━━━━━━━━━━━━━━━━━━━━━━━━━━━━━━━━━━━━━━━━━━━━━━━━━━━━━━━━━━━━━━━━━━━ \n",
       " \u001b[2;36m \u001b[0m\u001b[2;36m272001288\u001b[0m\u001b[2;36m \u001b[0m \u001b[2;36m \u001b[0m\u001b[2;36m117874  \u001b[0m\u001b[2;36m \u001b[0m \u001b[2;32m \u001b[0m\u001b[2;3;32mPlatismatia glauca\u001b[0m\u001b[2;32m (Varied Rag Lichen)\u001b[0m\u001b[2;32m \u001b[0m \u001b[2;34m \u001b[0m\u001b[2;34mApr 18, 2025\u001b[0m\u001b[2;34m \u001b[0m \u001b[2;35m \u001b[0m\u001b[2;35mrugbike\u001b[0m\u001b[2;35m \u001b[0m \u001b[2;37m \u001b[0m\u001b[2;37mEspoo, Uusimaa, FI\u001b[0m\u001b[2;37m \u001b[0m \n",
       "                                                                                                               \n"
      ]
     },
     "metadata": {},
     "output_type": "display_data"
    },
    {
     "data": {
      "text/html": [
       "<pre style=\"white-space:pre;overflow-x:auto;line-height:normal;font-family:Menlo,'DejaVu Sans Mono',consolas,'Courier New',monospace\">                                                                                                                   \n",
       " <span style=\"color: #c0c0c0; text-decoration-color: #c0c0c0; font-weight: bold\"> ID        </span> <span style=\"color: #c0c0c0; text-decoration-color: #c0c0c0; font-weight: bold\"> Taxon ID </span> <span style=\"color: #c0c0c0; text-decoration-color: #c0c0c0; font-weight: bold\"> Taxon                         </span> <span style=\"color: #c0c0c0; text-decoration-color: #c0c0c0; font-weight: bold\"> Observed on  </span> <span style=\"color: #c0c0c0; text-decoration-color: #c0c0c0; font-weight: bold\"> User          </span> <span style=\"color: #c0c0c0; text-decoration-color: #c0c0c0; font-weight: bold\"> Location                  </span> \n",
       " ━━━━━━━━━━━━━━━━━━━━━━━━━━━━━━━━━━━━━━━━━━━━━━━━━━━━━━━━━━━━━━━━━━━━━━━━━━━━━━━━━━━━━━━━━━━━━━━━━━━━━━━━━━━━━━━━━ \n",
       " <span style=\"color: #7fbfbf; text-decoration-color: #7fbfbf\"> 272001172 </span> <span style=\"color: #7fbfbf; text-decoration-color: #7fbfbf\"> 117963   </span> <span style=\"color: #7fbf7f; text-decoration-color: #7fbf7f\"> </span><span style=\"color: #7fbf7f; text-decoration-color: #7fbf7f; font-style: italic\">Cladonia squamosa</span><span style=\"color: #7fbf7f; text-decoration-color: #7fbf7f\"> (Dragon     </span> <span style=\"color: #7f7fbf; text-decoration-color: #7f7fbf\"> Apr 21, 2025 </span> <span style=\"color: #bf7fbf; text-decoration-color: #bf7fbf\"> johannes_merz </span> <span style=\"color: #dfdfdf; text-decoration-color: #dfdfdf\"> Friskala, Turku, Finnland </span> \n",
       " <span style=\"color: #7fbfbf; text-decoration-color: #7fbfbf\">           </span> <span style=\"color: #7fbfbf; text-decoration-color: #7fbfbf\">          </span> <span style=\"color: #7fbf7f; text-decoration-color: #7fbf7f\"> Horn)                         </span> <span style=\"color: #7f7fbf; text-decoration-color: #7f7fbf\">              </span> <span style=\"color: #bf7fbf; text-decoration-color: #bf7fbf\">               </span> <span style=\"color: #dfdfdf; text-decoration-color: #dfdfdf\">                           </span> \n",
       "                                                                                                                   \n",
       "</pre>\n"
      ],
      "text/plain": [
       "                                                                                                                   \n",
       " \u001b[1;37m \u001b[0m\u001b[1;37mID       \u001b[0m\u001b[1;37m \u001b[0m \u001b[1;37m \u001b[0m\u001b[1;37mTaxon ID\u001b[0m\u001b[1;37m \u001b[0m \u001b[1;37m \u001b[0m\u001b[1;37mTaxon                        \u001b[0m\u001b[1;37m \u001b[0m \u001b[1;37m \u001b[0m\u001b[1;37mObserved on \u001b[0m\u001b[1;37m \u001b[0m \u001b[1;37m \u001b[0m\u001b[1;37mUser         \u001b[0m\u001b[1;37m \u001b[0m \u001b[1;37m \u001b[0m\u001b[1;37mLocation                 \u001b[0m\u001b[1;37m \u001b[0m \n",
       " ━━━━━━━━━━━━━━━━━━━━━━━━━━━━━━━━━━━━━━━━━━━━━━━━━━━━━━━━━━━━━━━━━━━━━━━━━━━━━━━━━━━━━━━━━━━━━━━━━━━━━━━━━━━━━━━━━ \n",
       " \u001b[2;36m \u001b[0m\u001b[2;36m272001172\u001b[0m\u001b[2;36m \u001b[0m \u001b[2;36m \u001b[0m\u001b[2;36m117963  \u001b[0m\u001b[2;36m \u001b[0m \u001b[2;32m \u001b[0m\u001b[2;3;32mCladonia squamosa\u001b[0m\u001b[2;32m (Dragon    \u001b[0m\u001b[2;32m \u001b[0m \u001b[2;34m \u001b[0m\u001b[2;34mApr 21, 2025\u001b[0m\u001b[2;34m \u001b[0m \u001b[2;35m \u001b[0m\u001b[2;35mjohannes_merz\u001b[0m\u001b[2;35m \u001b[0m \u001b[2;37m \u001b[0m\u001b[2;37mFriskala, Turku, Finnland\u001b[0m\u001b[2;37m \u001b[0m \n",
       " \u001b[2;36m           \u001b[0m \u001b[2;36m          \u001b[0m \u001b[2;32m \u001b[0m\u001b[2;32mHorn)                        \u001b[0m\u001b[2;32m \u001b[0m \u001b[2;34m              \u001b[0m \u001b[2;35m               \u001b[0m \u001b[2;37m                           \u001b[0m \n",
       "                                                                                                                   \n"
      ]
     },
     "metadata": {},
     "output_type": "display_data"
    },
    {
     "data": {
      "text/html": [
       "<pre style=\"white-space:pre;overflow-x:auto;line-height:normal;font-family:Menlo,'DejaVu Sans Mono',consolas,'Courier New',monospace\">                                                                                                                   \n",
       " <span style=\"color: #c0c0c0; text-decoration-color: #c0c0c0; font-weight: bold\"> ID        </span> <span style=\"color: #c0c0c0; text-decoration-color: #c0c0c0; font-weight: bold\"> Taxon ID </span> <span style=\"color: #c0c0c0; text-decoration-color: #c0c0c0; font-weight: bold\"> Taxon                        </span> <span style=\"color: #c0c0c0; text-decoration-color: #c0c0c0; font-weight: bold\"> Observed on  </span> <span style=\"color: #c0c0c0; text-decoration-color: #c0c0c0; font-weight: bold\"> User         </span> <span style=\"color: #c0c0c0; text-decoration-color: #c0c0c0; font-weight: bold\"> Location                    </span> \n",
       " ━━━━━━━━━━━━━━━━━━━━━━━━━━━━━━━━━━━━━━━━━━━━━━━━━━━━━━━━━━━━━━━━━━━━━━━━━━━━━━━━━━━━━━━━━━━━━━━━━━━━━━━━━━━━━━━━━ \n",
       " <span style=\"color: #7fbfbf; text-decoration-color: #7fbfbf\"> 272001074 </span> <span style=\"color: #7fbfbf; text-decoration-color: #7fbfbf\"> 117888   </span> <span style=\"color: #7fbf7f; text-decoration-color: #7fbf7f\"> </span><span style=\"color: #7fbf7f; text-decoration-color: #7fbf7f; font-style: italic\">Sticta limbata</span><span style=\"color: #7fbf7f; text-decoration-color: #7fbf7f\"> (Powdered     </span> <span style=\"color: #7f7fbf; text-decoration-color: #7f7fbf\"> Apr 18, 2025 </span> <span style=\"color: #bf7fbf; text-decoration-color: #bf7fbf\"> bradenjudson </span> <span style=\"color: #dfdfdf; text-decoration-color: #dfdfdf\"> Cowichan Valley, BC, Canada </span> \n",
       " <span style=\"color: #7fbfbf; text-decoration-color: #7fbfbf\">           </span> <span style=\"color: #7fbfbf; text-decoration-color: #7fbfbf\">          </span> <span style=\"color: #7fbf7f; text-decoration-color: #7fbf7f\"> Moon Lichen)                 </span> <span style=\"color: #7f7fbf; text-decoration-color: #7f7fbf\">              </span> <span style=\"color: #bf7fbf; text-decoration-color: #bf7fbf\">              </span> <span style=\"color: #dfdfdf; text-decoration-color: #dfdfdf\">                             </span> \n",
       "                                                                                                                   \n",
       "</pre>\n"
      ],
      "text/plain": [
       "                                                                                                                   \n",
       " \u001b[1;37m \u001b[0m\u001b[1;37mID       \u001b[0m\u001b[1;37m \u001b[0m \u001b[1;37m \u001b[0m\u001b[1;37mTaxon ID\u001b[0m\u001b[1;37m \u001b[0m \u001b[1;37m \u001b[0m\u001b[1;37mTaxon                       \u001b[0m\u001b[1;37m \u001b[0m \u001b[1;37m \u001b[0m\u001b[1;37mObserved on \u001b[0m\u001b[1;37m \u001b[0m \u001b[1;37m \u001b[0m\u001b[1;37mUser        \u001b[0m\u001b[1;37m \u001b[0m \u001b[1;37m \u001b[0m\u001b[1;37mLocation                   \u001b[0m\u001b[1;37m \u001b[0m \n",
       " ━━━━━━━━━━━━━━━━━━━━━━━━━━━━━━━━━━━━━━━━━━━━━━━━━━━━━━━━━━━━━━━━━━━━━━━━━━━━━━━━━━━━━━━━━━━━━━━━━━━━━━━━━━━━━━━━━ \n",
       " \u001b[2;36m \u001b[0m\u001b[2;36m272001074\u001b[0m\u001b[2;36m \u001b[0m \u001b[2;36m \u001b[0m\u001b[2;36m117888  \u001b[0m\u001b[2;36m \u001b[0m \u001b[2;32m \u001b[0m\u001b[2;3;32mSticta limbata\u001b[0m\u001b[2;32m (Powdered    \u001b[0m\u001b[2;32m \u001b[0m \u001b[2;34m \u001b[0m\u001b[2;34mApr 18, 2025\u001b[0m\u001b[2;34m \u001b[0m \u001b[2;35m \u001b[0m\u001b[2;35mbradenjudson\u001b[0m\u001b[2;35m \u001b[0m \u001b[2;37m \u001b[0m\u001b[2;37mCowichan Valley, BC, Canada\u001b[0m\u001b[2;37m \u001b[0m \n",
       " \u001b[2;36m           \u001b[0m \u001b[2;36m          \u001b[0m \u001b[2;32m \u001b[0m\u001b[2;32mMoon Lichen)                \u001b[0m\u001b[2;32m \u001b[0m \u001b[2;34m              \u001b[0m \u001b[2;35m              \u001b[0m \u001b[2;37m                             \u001b[0m \n",
       "                                                                                                                   \n"
      ]
     },
     "metadata": {},
     "output_type": "display_data"
    },
    {
     "data": {
      "text/html": [
       "<pre style=\"white-space:pre;overflow-x:auto;line-height:normal;font-family:Menlo,'DejaVu Sans Mono',consolas,'Courier New',monospace\">                                                                                                                   \n",
       " <span style=\"color: #c0c0c0; text-decoration-color: #c0c0c0; font-weight: bold\"> ID        </span> <span style=\"color: #c0c0c0; text-decoration-color: #c0c0c0; font-weight: bold\"> Taxon ID </span> <span style=\"color: #c0c0c0; text-decoration-color: #c0c0c0; font-weight: bold\"> Taxon                                           </span> <span style=\"color: #c0c0c0; text-decoration-color: #c0c0c0; font-weight: bold\"> Observed on  </span> <span style=\"color: #c0c0c0; text-decoration-color: #c0c0c0; font-weight: bold\"> User    </span> <span style=\"color: #c0c0c0; text-decoration-color: #c0c0c0; font-weight: bold\"> Location      </span> \n",
       " ━━━━━━━━━━━━━━━━━━━━━━━━━━━━━━━━━━━━━━━━━━━━━━━━━━━━━━━━━━━━━━━━━━━━━━━━━━━━━━━━━━━━━━━━━━━━━━━━━━━━━━━━━━━━━━━━━ \n",
       " <span style=\"color: #7fbfbf; text-decoration-color: #7fbfbf\"> 272000199 </span> <span style=\"color: #7fbfbf; text-decoration-color: #7fbfbf\"> 229256   </span> <span style=\"color: #7fbf7f; text-decoration-color: #7fbf7f\"> </span><span style=\"color: #7fbf7f; text-decoration-color: #7fbf7f; font-style: italic\">Psora pseudorussellii</span><span style=\"color: #7fbf7f; text-decoration-color: #7fbf7f\"> (False Russell's          </span> <span style=\"color: #7f7fbf; text-decoration-color: #7f7fbf\"> Apr 05, 2025 </span> <span style=\"color: #bf7fbf; text-decoration-color: #bf7fbf\"> dominic </span> <span style=\"color: #dfdfdf; text-decoration-color: #dfdfdf\"> Tennessee, US </span> \n",
       " <span style=\"color: #7fbfbf; text-decoration-color: #7fbfbf\">           </span> <span style=\"color: #7fbfbf; text-decoration-color: #7fbfbf\">          </span> <span style=\"color: #7fbf7f; text-decoration-color: #7fbf7f\"> Fishscale Lichen)                               </span> <span style=\"color: #7f7fbf; text-decoration-color: #7f7fbf\">              </span> <span style=\"color: #bf7fbf; text-decoration-color: #bf7fbf\">         </span> <span style=\"color: #dfdfdf; text-decoration-color: #dfdfdf\">               </span> \n",
       "                                                                                                                   \n",
       "</pre>\n"
      ],
      "text/plain": [
       "                                                                                                                   \n",
       " \u001b[1;37m \u001b[0m\u001b[1;37mID       \u001b[0m\u001b[1;37m \u001b[0m \u001b[1;37m \u001b[0m\u001b[1;37mTaxon ID\u001b[0m\u001b[1;37m \u001b[0m \u001b[1;37m \u001b[0m\u001b[1;37mTaxon                                          \u001b[0m\u001b[1;37m \u001b[0m \u001b[1;37m \u001b[0m\u001b[1;37mObserved on \u001b[0m\u001b[1;37m \u001b[0m \u001b[1;37m \u001b[0m\u001b[1;37mUser   \u001b[0m\u001b[1;37m \u001b[0m \u001b[1;37m \u001b[0m\u001b[1;37mLocation     \u001b[0m\u001b[1;37m \u001b[0m \n",
       " ━━━━━━━━━━━━━━━━━━━━━━━━━━━━━━━━━━━━━━━━━━━━━━━━━━━━━━━━━━━━━━━━━━━━━━━━━━━━━━━━━━━━━━━━━━━━━━━━━━━━━━━━━━━━━━━━━ \n",
       " \u001b[2;36m \u001b[0m\u001b[2;36m272000199\u001b[0m\u001b[2;36m \u001b[0m \u001b[2;36m \u001b[0m\u001b[2;36m229256  \u001b[0m\u001b[2;36m \u001b[0m \u001b[2;32m \u001b[0m\u001b[2;3;32mPsora pseudorussellii\u001b[0m\u001b[2;32m (False Russell's         \u001b[0m\u001b[2;32m \u001b[0m \u001b[2;34m \u001b[0m\u001b[2;34mApr 05, 2025\u001b[0m\u001b[2;34m \u001b[0m \u001b[2;35m \u001b[0m\u001b[2;35mdominic\u001b[0m\u001b[2;35m \u001b[0m \u001b[2;37m \u001b[0m\u001b[2;37mTennessee, US\u001b[0m\u001b[2;37m \u001b[0m \n",
       " \u001b[2;36m           \u001b[0m \u001b[2;36m          \u001b[0m \u001b[2;32m \u001b[0m\u001b[2;32mFishscale Lichen)                              \u001b[0m\u001b[2;32m \u001b[0m \u001b[2;34m              \u001b[0m \u001b[2;35m         \u001b[0m \u001b[2;37m               \u001b[0m \n",
       "                                                                                                                   \n"
      ]
     },
     "metadata": {},
     "output_type": "display_data"
    },
    {
     "data": {
      "text/html": [
       "<pre style=\"white-space:pre;overflow-x:auto;line-height:normal;font-family:Menlo,'DejaVu Sans Mono',consolas,'Courier New',monospace\">                                                                                                                   \n",
       " <span style=\"color: #c0c0c0; text-decoration-color: #c0c0c0; font-weight: bold\"> ID        </span> <span style=\"color: #c0c0c0; text-decoration-color: #c0c0c0; font-weight: bold\"> Taxon ID </span> <span style=\"color: #c0c0c0; text-decoration-color: #c0c0c0; font-weight: bold\"> Taxon                                  </span> <span style=\"color: #c0c0c0; text-decoration-color: #c0c0c0; font-weight: bold\"> Observed on  </span> <span style=\"color: #c0c0c0; text-decoration-color: #c0c0c0; font-weight: bold\"> User      </span> <span style=\"color: #c0c0c0; text-decoration-color: #c0c0c0; font-weight: bold\"> Location             </span> \n",
       " ━━━━━━━━━━━━━━━━━━━━━━━━━━━━━━━━━━━━━━━━━━━━━━━━━━━━━━━━━━━━━━━━━━━━━━━━━━━━━━━━━━━━━━━━━━━━━━━━━━━━━━━━━━━━━━━━━ \n",
       " <span style=\"color: #7fbfbf; text-decoration-color: #7fbfbf\"> 271997741 </span> <span style=\"color: #7fbfbf; text-decoration-color: #7fbfbf\"> 117943   </span> <span style=\"color: #7fbf7f; text-decoration-color: #7fbf7f\"> </span><span style=\"color: #7fbf7f; text-decoration-color: #7fbf7f; font-style: italic\">Flavoparmelia caperata</span><span style=\"color: #7fbf7f; text-decoration-color: #7fbf7f\"> (Common         </span> <span style=\"color: #7f7fbf; text-decoration-color: #7f7fbf\"> Apr 21, 2025 </span> <span style=\"color: #bf7fbf; text-decoration-color: #bf7fbf\"> z_ploszka </span> <span style=\"color: #dfdfdf; text-decoration-color: #dfdfdf\"> Bałuty, Łódź, Poland </span> \n",
       " <span style=\"color: #7fbfbf; text-decoration-color: #7fbfbf\">           </span> <span style=\"color: #7fbfbf; text-decoration-color: #7fbfbf\">          </span> <span style=\"color: #7fbf7f; text-decoration-color: #7fbf7f\"> Greenshield Lichen)                    </span> <span style=\"color: #7f7fbf; text-decoration-color: #7f7fbf\">              </span> <span style=\"color: #bf7fbf; text-decoration-color: #bf7fbf\">           </span> <span style=\"color: #dfdfdf; text-decoration-color: #dfdfdf\">                      </span> \n",
       "                                                                                                                   \n",
       "</pre>\n"
      ],
      "text/plain": [
       "                                                                                                                   \n",
       " \u001b[1;37m \u001b[0m\u001b[1;37mID       \u001b[0m\u001b[1;37m \u001b[0m \u001b[1;37m \u001b[0m\u001b[1;37mTaxon ID\u001b[0m\u001b[1;37m \u001b[0m \u001b[1;37m \u001b[0m\u001b[1;37mTaxon                                 \u001b[0m\u001b[1;37m \u001b[0m \u001b[1;37m \u001b[0m\u001b[1;37mObserved on \u001b[0m\u001b[1;37m \u001b[0m \u001b[1;37m \u001b[0m\u001b[1;37mUser     \u001b[0m\u001b[1;37m \u001b[0m \u001b[1;37m \u001b[0m\u001b[1;37mLocation            \u001b[0m\u001b[1;37m \u001b[0m \n",
       " ━━━━━━━━━━━━━━━━━━━━━━━━━━━━━━━━━━━━━━━━━━━━━━━━━━━━━━━━━━━━━━━━━━━━━━━━━━━━━━━━━━━━━━━━━━━━━━━━━━━━━━━━━━━━━━━━━ \n",
       " \u001b[2;36m \u001b[0m\u001b[2;36m271997741\u001b[0m\u001b[2;36m \u001b[0m \u001b[2;36m \u001b[0m\u001b[2;36m117943  \u001b[0m\u001b[2;36m \u001b[0m \u001b[2;32m \u001b[0m\u001b[2;3;32mFlavoparmelia caperata\u001b[0m\u001b[2;32m (Common        \u001b[0m\u001b[2;32m \u001b[0m \u001b[2;34m \u001b[0m\u001b[2;34mApr 21, 2025\u001b[0m\u001b[2;34m \u001b[0m \u001b[2;35m \u001b[0m\u001b[2;35mz_ploszka\u001b[0m\u001b[2;35m \u001b[0m \u001b[2;37m \u001b[0m\u001b[2;37mBałuty, Łódź, Poland\u001b[0m\u001b[2;37m \u001b[0m \n",
       " \u001b[2;36m           \u001b[0m \u001b[2;36m          \u001b[0m \u001b[2;32m \u001b[0m\u001b[2;32mGreenshield Lichen)                   \u001b[0m\u001b[2;32m \u001b[0m \u001b[2;34m              \u001b[0m \u001b[2;35m           \u001b[0m \u001b[2;37m                      \u001b[0m \n",
       "                                                                                                                   \n"
      ]
     },
     "metadata": {},
     "output_type": "display_data"
    },
    {
     "data": {
      "text/html": [
       "<pre style=\"white-space:pre;overflow-x:auto;line-height:normal;font-family:Menlo,'DejaVu Sans Mono',consolas,'Courier New',monospace\">                                                                                                                   \n",
       " <span style=\"color: #c0c0c0; text-decoration-color: #c0c0c0; font-weight: bold\"> ID        </span> <span style=\"color: #c0c0c0; text-decoration-color: #c0c0c0; font-weight: bold\"> Taxon ID </span> <span style=\"color: #c0c0c0; text-decoration-color: #c0c0c0; font-weight: bold\"> Taxon                          </span> <span style=\"color: #c0c0c0; text-decoration-color: #c0c0c0; font-weight: bold\"> Observed on  </span> <span style=\"color: #c0c0c0; text-decoration-color: #c0c0c0; font-weight: bold\"> User             </span> <span style=\"color: #c0c0c0; text-decoration-color: #c0c0c0; font-weight: bold\"> Location              </span> \n",
       " ━━━━━━━━━━━━━━━━━━━━━━━━━━━━━━━━━━━━━━━━━━━━━━━━━━━━━━━━━━━━━━━━━━━━━━━━━━━━━━━━━━━━━━━━━━━━━━━━━━━━━━━━━━━━━━━━━ \n",
       " <span style=\"color: #7fbfbf; text-decoration-color: #7fbfbf\"> 271997579 </span> <span style=\"color: #7fbfbf; text-decoration-color: #7fbfbf\"> 463837   </span> <span style=\"color: #7fbf7f; text-decoration-color: #7fbf7f\"> </span><span style=\"color: #7fbf7f; text-decoration-color: #7fbf7f; font-style: italic\">Polycauliona polycarpa</span><span style=\"color: #7fbf7f; text-decoration-color: #7fbf7f\">         </span> <span style=\"color: #7f7fbf; text-decoration-color: #7f7fbf\"> Apr 21, 2025 </span> <span style=\"color: #bf7fbf; text-decoration-color: #bf7fbf\"> pienoinenkarpalo </span> <span style=\"color: #dfdfdf; text-decoration-color: #dfdfdf\"> 00520 Helsinki, Suomi </span> \n",
       " <span style=\"color: #7fbfbf; text-decoration-color: #7fbfbf\">           </span> <span style=\"color: #7fbfbf; text-decoration-color: #7fbfbf\">          </span> <span style=\"color: #7fbf7f; text-decoration-color: #7fbf7f\"> (Pin-Cushion Sunburst Lichen)  </span> <span style=\"color: #7f7fbf; text-decoration-color: #7f7fbf\">              </span> <span style=\"color: #bf7fbf; text-decoration-color: #bf7fbf\">                  </span> <span style=\"color: #dfdfdf; text-decoration-color: #dfdfdf\">                       </span> \n",
       "                                                                                                                   \n",
       "</pre>\n"
      ],
      "text/plain": [
       "                                                                                                                   \n",
       " \u001b[1;37m \u001b[0m\u001b[1;37mID       \u001b[0m\u001b[1;37m \u001b[0m \u001b[1;37m \u001b[0m\u001b[1;37mTaxon ID\u001b[0m\u001b[1;37m \u001b[0m \u001b[1;37m \u001b[0m\u001b[1;37mTaxon                         \u001b[0m\u001b[1;37m \u001b[0m \u001b[1;37m \u001b[0m\u001b[1;37mObserved on \u001b[0m\u001b[1;37m \u001b[0m \u001b[1;37m \u001b[0m\u001b[1;37mUser            \u001b[0m\u001b[1;37m \u001b[0m \u001b[1;37m \u001b[0m\u001b[1;37mLocation             \u001b[0m\u001b[1;37m \u001b[0m \n",
       " ━━━━━━━━━━━━━━━━━━━━━━━━━━━━━━━━━━━━━━━━━━━━━━━━━━━━━━━━━━━━━━━━━━━━━━━━━━━━━━━━━━━━━━━━━━━━━━━━━━━━━━━━━━━━━━━━━ \n",
       " \u001b[2;36m \u001b[0m\u001b[2;36m271997579\u001b[0m\u001b[2;36m \u001b[0m \u001b[2;36m \u001b[0m\u001b[2;36m463837  \u001b[0m\u001b[2;36m \u001b[0m \u001b[2;32m \u001b[0m\u001b[2;3;32mPolycauliona polycarpa\u001b[0m\u001b[2;32m        \u001b[0m\u001b[2;32m \u001b[0m \u001b[2;34m \u001b[0m\u001b[2;34mApr 21, 2025\u001b[0m\u001b[2;34m \u001b[0m \u001b[2;35m \u001b[0m\u001b[2;35mpienoinenkarpalo\u001b[0m\u001b[2;35m \u001b[0m \u001b[2;37m \u001b[0m\u001b[2;37m00520 Helsinki, Suomi\u001b[0m\u001b[2;37m \u001b[0m \n",
       " \u001b[2;36m           \u001b[0m \u001b[2;36m          \u001b[0m \u001b[2;32m \u001b[0m\u001b[2;32m(Pin-Cushion Sunburst Lichen) \u001b[0m\u001b[2;32m \u001b[0m \u001b[2;34m              \u001b[0m \u001b[2;35m                  \u001b[0m \u001b[2;37m                       \u001b[0m \n",
       "                                                                                                                   \n"
      ]
     },
     "metadata": {},
     "output_type": "display_data"
    },
    {
     "data": {
      "text/html": [
       "<pre style=\"white-space:pre;overflow-x:auto;line-height:normal;font-family:Menlo,'DejaVu Sans Mono',consolas,'Courier New',monospace\">                                                                                                                   \n",
       " <span style=\"color: #c0c0c0; text-decoration-color: #c0c0c0; font-weight: bold\"> ID        </span> <span style=\"color: #c0c0c0; text-decoration-color: #c0c0c0; font-weight: bold\"> Taxon ID </span> <span style=\"color: #c0c0c0; text-decoration-color: #c0c0c0; font-weight: bold\"> Taxon                                   </span> <span style=\"color: #c0c0c0; text-decoration-color: #c0c0c0; font-weight: bold\"> Observed on  </span> <span style=\"color: #c0c0c0; text-decoration-color: #c0c0c0; font-weight: bold\"> User    </span> <span style=\"color: #c0c0c0; text-decoration-color: #c0c0c0; font-weight: bold\"> Location              </span> \n",
       " ━━━━━━━━━━━━━━━━━━━━━━━━━━━━━━━━━━━━━━━━━━━━━━━━━━━━━━━━━━━━━━━━━━━━━━━━━━━━━━━━━━━━━━━━━━━━━━━━━━━━━━━━━━━━━━━━━ \n",
       " <span style=\"color: #7fbfbf; text-decoration-color: #7fbfbf\"> 271996269 </span> <span style=\"color: #7fbfbf; text-decoration-color: #7fbfbf\"> 117860   </span> <span style=\"color: #7fbf7f; text-decoration-color: #7fbf7f\"> </span><span style=\"color: #7fbf7f; text-decoration-color: #7fbf7f; font-style: italic\">Parmelia saxatilis</span><span style=\"color: #7fbf7f; text-decoration-color: #7fbf7f\"> (Salted Shield       </span> <span style=\"color: #7f7fbf; text-decoration-color: #7f7fbf\"> Apr 21, 2025 </span> <span style=\"color: #bf7fbf; text-decoration-color: #bf7fbf\"> torni77 </span> <span style=\"color: #dfdfdf; text-decoration-color: #dfdfdf\"> 00980 Helsinki, Suomi </span> \n",
       " <span style=\"color: #7fbfbf; text-decoration-color: #7fbfbf\">           </span> <span style=\"color: #7fbfbf; text-decoration-color: #7fbfbf\">          </span> <span style=\"color: #7fbf7f; text-decoration-color: #7fbf7f\"> Lichen)                                 </span> <span style=\"color: #7f7fbf; text-decoration-color: #7f7fbf\">              </span> <span style=\"color: #bf7fbf; text-decoration-color: #bf7fbf\">         </span> <span style=\"color: #dfdfdf; text-decoration-color: #dfdfdf\">                       </span> \n",
       "                                                                                                                   \n",
       "</pre>\n"
      ],
      "text/plain": [
       "                                                                                                                   \n",
       " \u001b[1;37m \u001b[0m\u001b[1;37mID       \u001b[0m\u001b[1;37m \u001b[0m \u001b[1;37m \u001b[0m\u001b[1;37mTaxon ID\u001b[0m\u001b[1;37m \u001b[0m \u001b[1;37m \u001b[0m\u001b[1;37mTaxon                                  \u001b[0m\u001b[1;37m \u001b[0m \u001b[1;37m \u001b[0m\u001b[1;37mObserved on \u001b[0m\u001b[1;37m \u001b[0m \u001b[1;37m \u001b[0m\u001b[1;37mUser   \u001b[0m\u001b[1;37m \u001b[0m \u001b[1;37m \u001b[0m\u001b[1;37mLocation             \u001b[0m\u001b[1;37m \u001b[0m \n",
       " ━━━━━━━━━━━━━━━━━━━━━━━━━━━━━━━━━━━━━━━━━━━━━━━━━━━━━━━━━━━━━━━━━━━━━━━━━━━━━━━━━━━━━━━━━━━━━━━━━━━━━━━━━━━━━━━━━ \n",
       " \u001b[2;36m \u001b[0m\u001b[2;36m271996269\u001b[0m\u001b[2;36m \u001b[0m \u001b[2;36m \u001b[0m\u001b[2;36m117860  \u001b[0m\u001b[2;36m \u001b[0m \u001b[2;32m \u001b[0m\u001b[2;3;32mParmelia saxatilis\u001b[0m\u001b[2;32m (Salted Shield      \u001b[0m\u001b[2;32m \u001b[0m \u001b[2;34m \u001b[0m\u001b[2;34mApr 21, 2025\u001b[0m\u001b[2;34m \u001b[0m \u001b[2;35m \u001b[0m\u001b[2;35mtorni77\u001b[0m\u001b[2;35m \u001b[0m \u001b[2;37m \u001b[0m\u001b[2;37m00980 Helsinki, Suomi\u001b[0m\u001b[2;37m \u001b[0m \n",
       " \u001b[2;36m           \u001b[0m \u001b[2;36m          \u001b[0m \u001b[2;32m \u001b[0m\u001b[2;32mLichen)                                \u001b[0m\u001b[2;32m \u001b[0m \u001b[2;34m              \u001b[0m \u001b[2;35m         \u001b[0m \u001b[2;37m                       \u001b[0m \n",
       "                                                                                                                   \n"
      ]
     },
     "metadata": {},
     "output_type": "display_data"
    },
    {
     "data": {
      "text/html": [
       "<pre style=\"white-space:pre;overflow-x:auto;line-height:normal;font-family:Menlo,'DejaVu Sans Mono',consolas,'Courier New',monospace\">                                                                                                                   \n",
       " <span style=\"color: #c0c0c0; text-decoration-color: #c0c0c0; font-weight: bold\"> ID        </span> <span style=\"color: #c0c0c0; text-decoration-color: #c0c0c0; font-weight: bold\"> Taxon ID </span> <span style=\"color: #c0c0c0; text-decoration-color: #c0c0c0; font-weight: bold\"> Taxon                              </span> <span style=\"color: #c0c0c0; text-decoration-color: #c0c0c0; font-weight: bold\"> Observed on  </span> <span style=\"color: #c0c0c0; text-decoration-color: #c0c0c0; font-weight: bold\"> User            </span> <span style=\"color: #c0c0c0; text-decoration-color: #c0c0c0; font-weight: bold\"> Location           </span> \n",
       " ━━━━━━━━━━━━━━━━━━━━━━━━━━━━━━━━━━━━━━━━━━━━━━━━━━━━━━━━━━━━━━━━━━━━━━━━━━━━━━━━━━━━━━━━━━━━━━━━━━━━━━━━━━━━━━━━━ \n",
       " <span style=\"color: #7fbfbf; text-decoration-color: #7fbfbf\"> 271994979 </span> <span style=\"color: #7fbfbf; text-decoration-color: #7fbfbf\"> 632126   </span> <span style=\"color: #7fbf7f; text-decoration-color: #7fbf7f\"> </span><span style=\"color: #7fbf7f; text-decoration-color: #7fbf7f; font-style: italic\">Protoparmeliopsis muralis</span><span style=\"color: #7fbf7f; text-decoration-color: #7fbf7f\">          </span> <span style=\"color: #7f7fbf; text-decoration-color: #7f7fbf\"> Apr 21, 2025 </span> <span style=\"color: #bf7fbf; text-decoration-color: #bf7fbf\"> juri_nascimbene </span> <span style=\"color: #dfdfdf; text-decoration-color: #dfdfdf\"> Feltre, Veneto, IT </span> \n",
       " <span style=\"color: #7fbfbf; text-decoration-color: #7fbfbf\">           </span> <span style=\"color: #7fbfbf; text-decoration-color: #7fbfbf\">          </span> <span style=\"color: #7fbf7f; text-decoration-color: #7fbf7f\"> (Stonewall Rim Lichen)             </span> <span style=\"color: #7f7fbf; text-decoration-color: #7f7fbf\">              </span> <span style=\"color: #bf7fbf; text-decoration-color: #bf7fbf\">                 </span> <span style=\"color: #dfdfdf; text-decoration-color: #dfdfdf\">                    </span> \n",
       "                                                                                                                   \n",
       "</pre>\n"
      ],
      "text/plain": [
       "                                                                                                                   \n",
       " \u001b[1;37m \u001b[0m\u001b[1;37mID       \u001b[0m\u001b[1;37m \u001b[0m \u001b[1;37m \u001b[0m\u001b[1;37mTaxon ID\u001b[0m\u001b[1;37m \u001b[0m \u001b[1;37m \u001b[0m\u001b[1;37mTaxon                             \u001b[0m\u001b[1;37m \u001b[0m \u001b[1;37m \u001b[0m\u001b[1;37mObserved on \u001b[0m\u001b[1;37m \u001b[0m \u001b[1;37m \u001b[0m\u001b[1;37mUser           \u001b[0m\u001b[1;37m \u001b[0m \u001b[1;37m \u001b[0m\u001b[1;37mLocation          \u001b[0m\u001b[1;37m \u001b[0m \n",
       " ━━━━━━━━━━━━━━━━━━━━━━━━━━━━━━━━━━━━━━━━━━━━━━━━━━━━━━━━━━━━━━━━━━━━━━━━━━━━━━━━━━━━━━━━━━━━━━━━━━━━━━━━━━━━━━━━━ \n",
       " \u001b[2;36m \u001b[0m\u001b[2;36m271994979\u001b[0m\u001b[2;36m \u001b[0m \u001b[2;36m \u001b[0m\u001b[2;36m632126  \u001b[0m\u001b[2;36m \u001b[0m \u001b[2;32m \u001b[0m\u001b[2;3;32mProtoparmeliopsis muralis\u001b[0m\u001b[2;32m         \u001b[0m\u001b[2;32m \u001b[0m \u001b[2;34m \u001b[0m\u001b[2;34mApr 21, 2025\u001b[0m\u001b[2;34m \u001b[0m \u001b[2;35m \u001b[0m\u001b[2;35mjuri_nascimbene\u001b[0m\u001b[2;35m \u001b[0m \u001b[2;37m \u001b[0m\u001b[2;37mFeltre, Veneto, IT\u001b[0m\u001b[2;37m \u001b[0m \n",
       " \u001b[2;36m           \u001b[0m \u001b[2;36m          \u001b[0m \u001b[2;32m \u001b[0m\u001b[2;32m(Stonewall Rim Lichen)            \u001b[0m\u001b[2;32m \u001b[0m \u001b[2;34m              \u001b[0m \u001b[2;35m                 \u001b[0m \u001b[2;37m                    \u001b[0m \n",
       "                                                                                                                   \n"
      ]
     },
     "metadata": {},
     "output_type": "display_data"
    },
    {
     "data": {
      "text/html": [
       "<pre style=\"white-space:pre;overflow-x:auto;line-height:normal;font-family:Menlo,'DejaVu Sans Mono',consolas,'Courier New',monospace\">                                                                                                                   \n",
       " <span style=\"color: #c0c0c0; text-decoration-color: #c0c0c0; font-weight: bold\"> ID        </span> <span style=\"color: #c0c0c0; text-decoration-color: #c0c0c0; font-weight: bold\"> Taxon ID </span> <span style=\"color: #c0c0c0; text-decoration-color: #c0c0c0; font-weight: bold\"> Taxon                               </span> <span style=\"color: #c0c0c0; text-decoration-color: #c0c0c0; font-weight: bold\"> Observed on  </span> <span style=\"color: #c0c0c0; text-decoration-color: #c0c0c0; font-weight: bold\"> User    </span> <span style=\"color: #c0c0c0; text-decoration-color: #c0c0c0; font-weight: bold\"> Location                  </span> \n",
       " ━━━━━━━━━━━━━━━━━━━━━━━━━━━━━━━━━━━━━━━━━━━━━━━━━━━━━━━━━━━━━━━━━━━━━━━━━━━━━━━━━━━━━━━━━━━━━━━━━━━━━━━━━━━━━━━━━ \n",
       " <span style=\"color: #7fbfbf; text-decoration-color: #7fbfbf\"> 271994054 </span> <span style=\"color: #7fbfbf; text-decoration-color: #7fbfbf\"> 217078   </span> <span style=\"color: #7fbf7f; text-decoration-color: #7fbf7f\"> </span><span style=\"color: #7fbf7f; text-decoration-color: #7fbf7f; font-style: italic\">Cladonia botrytes</span><span style=\"color: #7fbf7f; text-decoration-color: #7fbf7f\"> (Wooden Soldiers  </span> <span style=\"color: #7f7fbf; text-decoration-color: #7f7fbf\"> Apr 21, 2025 </span> <span style=\"color: #bf7fbf; text-decoration-color: #bf7fbf\"> torni77 </span> <span style=\"color: #dfdfdf; text-decoration-color: #dfdfdf\"> Vuosaari, Helsinki, Suomi </span> \n",
       " <span style=\"color: #7fbfbf; text-decoration-color: #7fbfbf\">           </span> <span style=\"color: #7fbfbf; text-decoration-color: #7fbfbf\">          </span> <span style=\"color: #7fbf7f; text-decoration-color: #7fbf7f\"> Lichen)                             </span> <span style=\"color: #7f7fbf; text-decoration-color: #7f7fbf\">              </span> <span style=\"color: #bf7fbf; text-decoration-color: #bf7fbf\">         </span> <span style=\"color: #dfdfdf; text-decoration-color: #dfdfdf\">                           </span> \n",
       "                                                                                                                   \n",
       "</pre>\n"
      ],
      "text/plain": [
       "                                                                                                                   \n",
       " \u001b[1;37m \u001b[0m\u001b[1;37mID       \u001b[0m\u001b[1;37m \u001b[0m \u001b[1;37m \u001b[0m\u001b[1;37mTaxon ID\u001b[0m\u001b[1;37m \u001b[0m \u001b[1;37m \u001b[0m\u001b[1;37mTaxon                              \u001b[0m\u001b[1;37m \u001b[0m \u001b[1;37m \u001b[0m\u001b[1;37mObserved on \u001b[0m\u001b[1;37m \u001b[0m \u001b[1;37m \u001b[0m\u001b[1;37mUser   \u001b[0m\u001b[1;37m \u001b[0m \u001b[1;37m \u001b[0m\u001b[1;37mLocation                 \u001b[0m\u001b[1;37m \u001b[0m \n",
       " ━━━━━━━━━━━━━━━━━━━━━━━━━━━━━━━━━━━━━━━━━━━━━━━━━━━━━━━━━━━━━━━━━━━━━━━━━━━━━━━━━━━━━━━━━━━━━━━━━━━━━━━━━━━━━━━━━ \n",
       " \u001b[2;36m \u001b[0m\u001b[2;36m271994054\u001b[0m\u001b[2;36m \u001b[0m \u001b[2;36m \u001b[0m\u001b[2;36m217078  \u001b[0m\u001b[2;36m \u001b[0m \u001b[2;32m \u001b[0m\u001b[2;3;32mCladonia botrytes\u001b[0m\u001b[2;32m (Wooden Soldiers \u001b[0m\u001b[2;32m \u001b[0m \u001b[2;34m \u001b[0m\u001b[2;34mApr 21, 2025\u001b[0m\u001b[2;34m \u001b[0m \u001b[2;35m \u001b[0m\u001b[2;35mtorni77\u001b[0m\u001b[2;35m \u001b[0m \u001b[2;37m \u001b[0m\u001b[2;37mVuosaari, Helsinki, Suomi\u001b[0m\u001b[2;37m \u001b[0m \n",
       " \u001b[2;36m           \u001b[0m \u001b[2;36m          \u001b[0m \u001b[2;32m \u001b[0m\u001b[2;32mLichen)                            \u001b[0m\u001b[2;32m \u001b[0m \u001b[2;34m              \u001b[0m \u001b[2;35m         \u001b[0m \u001b[2;37m                           \u001b[0m \n",
       "                                                                                                                   \n"
      ]
     },
     "metadata": {},
     "output_type": "display_data"
    },
    {
     "data": {
      "text/html": [
       "<pre style=\"white-space:pre;overflow-x:auto;line-height:normal;font-family:Menlo,'DejaVu Sans Mono',consolas,'Courier New',monospace\">                                                                                                                   \n",
       " <span style=\"color: #c0c0c0; text-decoration-color: #c0c0c0; font-weight: bold\"> ID        </span> <span style=\"color: #c0c0c0; text-decoration-color: #c0c0c0; font-weight: bold\"> Taxon ID </span> <span style=\"color: #c0c0c0; text-decoration-color: #c0c0c0; font-weight: bold\"> Taxon                      </span> <span style=\"color: #c0c0c0; text-decoration-color: #c0c0c0; font-weight: bold\"> Observed on  </span> <span style=\"color: #c0c0c0; text-decoration-color: #c0c0c0; font-weight: bold\"> User            </span> <span style=\"color: #c0c0c0; text-decoration-color: #c0c0c0; font-weight: bold\"> Location                   </span> \n",
       " ━━━━━━━━━━━━━━━━━━━━━━━━━━━━━━━━━━━━━━━━━━━━━━━━━━━━━━━━━━━━━━━━━━━━━━━━━━━━━━━━━━━━━━━━━━━━━━━━━━━━━━━━━━━━━━━━━ \n",
       " <span style=\"color: #7fbfbf; text-decoration-color: #7fbfbf\"> 271992732 </span> <span style=\"color: #7fbfbf; text-decoration-color: #7fbfbf\"> 117943   </span> <span style=\"color: #7fbf7f; text-decoration-color: #7fbf7f\"> </span><span style=\"color: #7fbf7f; text-decoration-color: #7fbf7f; font-style: italic\">Flavoparmelia caperata</span><span style=\"color: #7fbf7f; text-decoration-color: #7fbf7f\">     </span> <span style=\"color: #7f7fbf; text-decoration-color: #7f7fbf\"> Apr 21, 2025 </span> <span style=\"color: #bf7fbf; text-decoration-color: #bf7fbf\"> juri_nascimbene </span> <span style=\"color: #dfdfdf; text-decoration-color: #dfdfdf\"> Riserva Naturale Vincheto  </span> \n",
       " <span style=\"color: #7fbfbf; text-decoration-color: #7fbfbf\">           </span> <span style=\"color: #7fbfbf; text-decoration-color: #7fbfbf\">          </span> <span style=\"color: #7fbf7f; text-decoration-color: #7fbf7f\"> (Common Greenshield        </span> <span style=\"color: #7f7fbf; text-decoration-color: #7f7fbf\">              </span> <span style=\"color: #bf7fbf; text-decoration-color: #bf7fbf\">                 </span> <span style=\"color: #dfdfdf; text-decoration-color: #dfdfdf\"> di Celarda, Feltre,        </span> \n",
       " <span style=\"color: #7fbfbf; text-decoration-color: #7fbfbf\">           </span> <span style=\"color: #7fbfbf; text-decoration-color: #7fbfbf\">          </span> <span style=\"color: #7fbf7f; text-decoration-color: #7fbf7f\"> Lichen)                    </span> <span style=\"color: #7f7fbf; text-decoration-color: #7f7fbf\">              </span> <span style=\"color: #bf7fbf; text-decoration-color: #bf7fbf\">                 </span> <span style=\"color: #dfdfdf; text-decoration-color: #dfdfdf\"> Veneto, IT                 </span> \n",
       "                                                                                                                   \n",
       "</pre>\n"
      ],
      "text/plain": [
       "                                                                                                                   \n",
       " \u001b[1;37m \u001b[0m\u001b[1;37mID       \u001b[0m\u001b[1;37m \u001b[0m \u001b[1;37m \u001b[0m\u001b[1;37mTaxon ID\u001b[0m\u001b[1;37m \u001b[0m \u001b[1;37m \u001b[0m\u001b[1;37mTaxon                     \u001b[0m\u001b[1;37m \u001b[0m \u001b[1;37m \u001b[0m\u001b[1;37mObserved on \u001b[0m\u001b[1;37m \u001b[0m \u001b[1;37m \u001b[0m\u001b[1;37mUser           \u001b[0m\u001b[1;37m \u001b[0m \u001b[1;37m \u001b[0m\u001b[1;37mLocation                  \u001b[0m\u001b[1;37m \u001b[0m \n",
       " ━━━━━━━━━━━━━━━━━━━━━━━━━━━━━━━━━━━━━━━━━━━━━━━━━━━━━━━━━━━━━━━━━━━━━━━━━━━━━━━━━━━━━━━━━━━━━━━━━━━━━━━━━━━━━━━━━ \n",
       " \u001b[2;36m \u001b[0m\u001b[2;36m271992732\u001b[0m\u001b[2;36m \u001b[0m \u001b[2;36m \u001b[0m\u001b[2;36m117943  \u001b[0m\u001b[2;36m \u001b[0m \u001b[2;32m \u001b[0m\u001b[2;3;32mFlavoparmelia caperata\u001b[0m\u001b[2;32m    \u001b[0m\u001b[2;32m \u001b[0m \u001b[2;34m \u001b[0m\u001b[2;34mApr 21, 2025\u001b[0m\u001b[2;34m \u001b[0m \u001b[2;35m \u001b[0m\u001b[2;35mjuri_nascimbene\u001b[0m\u001b[2;35m \u001b[0m \u001b[2;37m \u001b[0m\u001b[2;37mRiserva Naturale Vincheto \u001b[0m\u001b[2;37m \u001b[0m \n",
       " \u001b[2;36m           \u001b[0m \u001b[2;36m          \u001b[0m \u001b[2;32m \u001b[0m\u001b[2;32m(Common Greenshield       \u001b[0m\u001b[2;32m \u001b[0m \u001b[2;34m              \u001b[0m \u001b[2;35m                 \u001b[0m \u001b[2;37m \u001b[0m\u001b[2;37mdi Celarda, Feltre,       \u001b[0m\u001b[2;37m \u001b[0m \n",
       " \u001b[2;36m           \u001b[0m \u001b[2;36m          \u001b[0m \u001b[2;32m \u001b[0m\u001b[2;32mLichen)                   \u001b[0m\u001b[2;32m \u001b[0m \u001b[2;34m              \u001b[0m \u001b[2;35m                 \u001b[0m \u001b[2;37m \u001b[0m\u001b[2;37mVeneto, IT                \u001b[0m\u001b[2;37m \u001b[0m \n",
       "                                                                                                                   \n"
      ]
     },
     "metadata": {},
     "output_type": "display_data"
    },
    {
     "data": {
      "text/html": [
       "<pre style=\"white-space:pre;overflow-x:auto;line-height:normal;font-family:Menlo,'DejaVu Sans Mono',consolas,'Courier New',monospace\">                                                                                                                   \n",
       " <span style=\"color: #c0c0c0; text-decoration-color: #c0c0c0; font-weight: bold\"> ID        </span> <span style=\"color: #c0c0c0; text-decoration-color: #c0c0c0; font-weight: bold\"> Taxon ID </span> <span style=\"color: #c0c0c0; text-decoration-color: #c0c0c0; font-weight: bold\"> Taxon                         </span> <span style=\"color: #c0c0c0; text-decoration-color: #c0c0c0; font-weight: bold\"> Observed on  </span> <span style=\"color: #c0c0c0; text-decoration-color: #c0c0c0; font-weight: bold\"> User       </span> <span style=\"color: #c0c0c0; text-decoration-color: #c0c0c0; font-weight: bold\"> Location                     </span> \n",
       " ━━━━━━━━━━━━━━━━━━━━━━━━━━━━━━━━━━━━━━━━━━━━━━━━━━━━━━━━━━━━━━━━━━━━━━━━━━━━━━━━━━━━━━━━━━━━━━━━━━━━━━━━━━━━━━━━━ \n",
       " <span style=\"color: #7fbfbf; text-decoration-color: #7fbfbf\"> 271991046 </span> <span style=\"color: #7fbfbf; text-decoration-color: #7fbfbf\"> 128919   </span> <span style=\"color: #7fbf7f; text-decoration-color: #7fbf7f\"> </span><span style=\"color: #7fbf7f; text-decoration-color: #7fbf7f; font-style: italic\">Pilophorus acicularis</span><span style=\"color: #7fbf7f; text-decoration-color: #7fbf7f\">         </span> <span style=\"color: #7f7fbf; text-decoration-color: #7f7fbf\"> Apr 18, 2025 </span> <span style=\"color: #bf7fbf; text-decoration-color: #bf7fbf\"> brantastic </span> <span style=\"color: #dfdfdf; text-decoration-color: #dfdfdf\"> Alberni-Clayoquot, BC,       </span> \n",
       " <span style=\"color: #7fbfbf; text-decoration-color: #7fbfbf\">           </span> <span style=\"color: #7fbfbf; text-decoration-color: #7fbfbf\">          </span> <span style=\"color: #7fbf7f; text-decoration-color: #7fbf7f\"> (Devil's Matchstick)          </span> <span style=\"color: #7f7fbf; text-decoration-color: #7f7fbf\">              </span> <span style=\"color: #bf7fbf; text-decoration-color: #bf7fbf\">            </span> <span style=\"color: #dfdfdf; text-decoration-color: #dfdfdf\"> Canada                       </span> \n",
       "                                                                                                                   \n",
       "</pre>\n"
      ],
      "text/plain": [
       "                                                                                                                   \n",
       " \u001b[1;37m \u001b[0m\u001b[1;37mID       \u001b[0m\u001b[1;37m \u001b[0m \u001b[1;37m \u001b[0m\u001b[1;37mTaxon ID\u001b[0m\u001b[1;37m \u001b[0m \u001b[1;37m \u001b[0m\u001b[1;37mTaxon                        \u001b[0m\u001b[1;37m \u001b[0m \u001b[1;37m \u001b[0m\u001b[1;37mObserved on \u001b[0m\u001b[1;37m \u001b[0m \u001b[1;37m \u001b[0m\u001b[1;37mUser      \u001b[0m\u001b[1;37m \u001b[0m \u001b[1;37m \u001b[0m\u001b[1;37mLocation                    \u001b[0m\u001b[1;37m \u001b[0m \n",
       " ━━━━━━━━━━━━━━━━━━━━━━━━━━━━━━━━━━━━━━━━━━━━━━━━━━━━━━━━━━━━━━━━━━━━━━━━━━━━━━━━━━━━━━━━━━━━━━━━━━━━━━━━━━━━━━━━━ \n",
       " \u001b[2;36m \u001b[0m\u001b[2;36m271991046\u001b[0m\u001b[2;36m \u001b[0m \u001b[2;36m \u001b[0m\u001b[2;36m128919  \u001b[0m\u001b[2;36m \u001b[0m \u001b[2;32m \u001b[0m\u001b[2;3;32mPilophorus acicularis\u001b[0m\u001b[2;32m        \u001b[0m\u001b[2;32m \u001b[0m \u001b[2;34m \u001b[0m\u001b[2;34mApr 18, 2025\u001b[0m\u001b[2;34m \u001b[0m \u001b[2;35m \u001b[0m\u001b[2;35mbrantastic\u001b[0m\u001b[2;35m \u001b[0m \u001b[2;37m \u001b[0m\u001b[2;37mAlberni-Clayoquot, BC,      \u001b[0m\u001b[2;37m \u001b[0m \n",
       " \u001b[2;36m           \u001b[0m \u001b[2;36m          \u001b[0m \u001b[2;32m \u001b[0m\u001b[2;32m(Devil's Matchstick)         \u001b[0m\u001b[2;32m \u001b[0m \u001b[2;34m              \u001b[0m \u001b[2;35m            \u001b[0m \u001b[2;37m \u001b[0m\u001b[2;37mCanada                      \u001b[0m\u001b[2;37m \u001b[0m \n",
       "                                                                                                                   \n"
      ]
     },
     "metadata": {},
     "output_type": "display_data"
    },
    {
     "data": {
      "text/html": [
       "<pre style=\"white-space:pre;overflow-x:auto;line-height:normal;font-family:Menlo,'DejaVu Sans Mono',consolas,'Courier New',monospace\">                                                                                                               \n",
       " <span style=\"color: #c0c0c0; text-decoration-color: #c0c0c0; font-weight: bold\"> ID        </span> <span style=\"color: #c0c0c0; text-decoration-color: #c0c0c0; font-weight: bold\"> Taxon ID </span> <span style=\"color: #c0c0c0; text-decoration-color: #c0c0c0; font-weight: bold\"> Taxon                               </span> <span style=\"color: #c0c0c0; text-decoration-color: #c0c0c0; font-weight: bold\"> Observed on  </span> <span style=\"color: #c0c0c0; text-decoration-color: #c0c0c0; font-weight: bold\"> User    </span> <span style=\"color: #c0c0c0; text-decoration-color: #c0c0c0; font-weight: bold\"> Location              </span> \n",
       " ━━━━━━━━━━━━━━━━━━━━━━━━━━━━━━━━━━━━━━━━━━━━━━━━━━━━━━━━━━━━━━━━━━━━━━━━━━━━━━━━━━━━━━━━━━━━━━━━━━━━━━━━━━━━━ \n",
       " <span style=\"color: #7fbfbf; text-decoration-color: #7fbfbf\"> 271990877 </span> <span style=\"color: #7fbfbf; text-decoration-color: #7fbfbf\"> 175355   </span> <span style=\"color: #7fbf7f; text-decoration-color: #7fbf7f\"> </span><span style=\"color: #7fbf7f; text-decoration-color: #7fbf7f; font-style: italic\">Pseudevernia furfuracea</span><span style=\"color: #7fbf7f; text-decoration-color: #7fbf7f\"> (Tree Moss) </span> <span style=\"color: #7f7fbf; text-decoration-color: #7f7fbf\"> Apr 14, 2025 </span> <span style=\"color: #bf7fbf; text-decoration-color: #bf7fbf\"> rugbike </span> <span style=\"color: #dfdfdf; text-decoration-color: #dfdfdf\"> Veikkola, Uusimaa, FI </span> \n",
       "                                                                                                               \n",
       "</pre>\n"
      ],
      "text/plain": [
       "                                                                                                               \n",
       " \u001b[1;37m \u001b[0m\u001b[1;37mID       \u001b[0m\u001b[1;37m \u001b[0m \u001b[1;37m \u001b[0m\u001b[1;37mTaxon ID\u001b[0m\u001b[1;37m \u001b[0m \u001b[1;37m \u001b[0m\u001b[1;37mTaxon                              \u001b[0m\u001b[1;37m \u001b[0m \u001b[1;37m \u001b[0m\u001b[1;37mObserved on \u001b[0m\u001b[1;37m \u001b[0m \u001b[1;37m \u001b[0m\u001b[1;37mUser   \u001b[0m\u001b[1;37m \u001b[0m \u001b[1;37m \u001b[0m\u001b[1;37mLocation             \u001b[0m\u001b[1;37m \u001b[0m \n",
       " ━━━━━━━━━━━━━━━━━━━━━━━━━━━━━━━━━━━━━━━━━━━━━━━━━━━━━━━━━━━━━━━━━━━━━━━━━━━━━━━━━━━━━━━━━━━━━━━━━━━━━━━━━━━━━ \n",
       " \u001b[2;36m \u001b[0m\u001b[2;36m271990877\u001b[0m\u001b[2;36m \u001b[0m \u001b[2;36m \u001b[0m\u001b[2;36m175355  \u001b[0m\u001b[2;36m \u001b[0m \u001b[2;32m \u001b[0m\u001b[2;3;32mPseudevernia furfuracea\u001b[0m\u001b[2;32m (Tree Moss)\u001b[0m\u001b[2;32m \u001b[0m \u001b[2;34m \u001b[0m\u001b[2;34mApr 14, 2025\u001b[0m\u001b[2;34m \u001b[0m \u001b[2;35m \u001b[0m\u001b[2;35mrugbike\u001b[0m\u001b[2;35m \u001b[0m \u001b[2;37m \u001b[0m\u001b[2;37mVeikkola, Uusimaa, FI\u001b[0m\u001b[2;37m \u001b[0m \n",
       "                                                                                                               \n"
      ]
     },
     "metadata": {},
     "output_type": "display_data"
    },
    {
     "data": {
      "text/html": [
       "<pre style=\"white-space:pre;overflow-x:auto;line-height:normal;font-family:Menlo,'DejaVu Sans Mono',consolas,'Courier New',monospace\">                                                                                                                   \n",
       " <span style=\"color: #c0c0c0; text-decoration-color: #c0c0c0; font-weight: bold\"> ID        </span> <span style=\"color: #c0c0c0; text-decoration-color: #c0c0c0; font-weight: bold\"> Taxon ID </span> <span style=\"color: #c0c0c0; text-decoration-color: #c0c0c0; font-weight: bold\"> Taxon                                  </span> <span style=\"color: #c0c0c0; text-decoration-color: #c0c0c0; font-weight: bold\"> Observed on  </span> <span style=\"color: #c0c0c0; text-decoration-color: #c0c0c0; font-weight: bold\"> User       </span> <span style=\"color: #c0c0c0; text-decoration-color: #c0c0c0; font-weight: bold\"> Location            </span> \n",
       " ━━━━━━━━━━━━━━━━━━━━━━━━━━━━━━━━━━━━━━━━━━━━━━━━━━━━━━━━━━━━━━━━━━━━━━━━━━━━━━━━━━━━━━━━━━━━━━━━━━━━━━━━━━━━━━━━━ \n",
       " <span style=\"color: #7fbfbf; text-decoration-color: #7fbfbf\"> 271987746 </span> <span style=\"color: #7fbfbf; text-decoration-color: #7fbfbf\"> 218522   </span> <span style=\"color: #7fbf7f; text-decoration-color: #7fbf7f\"> </span><span style=\"color: #7fbf7f; text-decoration-color: #7fbf7f; font-style: italic\">Diploicia canescens</span><span style=\"color: #7fbf7f; text-decoration-color: #7fbf7f\"> (White Pleated     </span> <span style=\"color: #7f7fbf; text-decoration-color: #7f7fbf\"> Apr 21, 2025 </span> <span style=\"color: #bf7fbf; text-decoration-color: #bf7fbf\"> rudolphous </span> <span style=\"color: #dfdfdf; text-decoration-color: #dfdfdf\"> Overveen, Nederland </span> \n",
       " <span style=\"color: #7fbfbf; text-decoration-color: #7fbfbf\">           </span> <span style=\"color: #7fbfbf; text-decoration-color: #7fbfbf\">          </span> <span style=\"color: #7fbf7f; text-decoration-color: #7fbf7f\"> Lichen)                                </span> <span style=\"color: #7f7fbf; text-decoration-color: #7f7fbf\">              </span> <span style=\"color: #bf7fbf; text-decoration-color: #bf7fbf\">            </span> <span style=\"color: #dfdfdf; text-decoration-color: #dfdfdf\">                     </span> \n",
       "                                                                                                                   \n",
       "</pre>\n"
      ],
      "text/plain": [
       "                                                                                                                   \n",
       " \u001b[1;37m \u001b[0m\u001b[1;37mID       \u001b[0m\u001b[1;37m \u001b[0m \u001b[1;37m \u001b[0m\u001b[1;37mTaxon ID\u001b[0m\u001b[1;37m \u001b[0m \u001b[1;37m \u001b[0m\u001b[1;37mTaxon                                 \u001b[0m\u001b[1;37m \u001b[0m \u001b[1;37m \u001b[0m\u001b[1;37mObserved on \u001b[0m\u001b[1;37m \u001b[0m \u001b[1;37m \u001b[0m\u001b[1;37mUser      \u001b[0m\u001b[1;37m \u001b[0m \u001b[1;37m \u001b[0m\u001b[1;37mLocation           \u001b[0m\u001b[1;37m \u001b[0m \n",
       " ━━━━━━━━━━━━━━━━━━━━━━━━━━━━━━━━━━━━━━━━━━━━━━━━━━━━━━━━━━━━━━━━━━━━━━━━━━━━━━━━━━━━━━━━━━━━━━━━━━━━━━━━━━━━━━━━━ \n",
       " \u001b[2;36m \u001b[0m\u001b[2;36m271987746\u001b[0m\u001b[2;36m \u001b[0m \u001b[2;36m \u001b[0m\u001b[2;36m218522  \u001b[0m\u001b[2;36m \u001b[0m \u001b[2;32m \u001b[0m\u001b[2;3;32mDiploicia canescens\u001b[0m\u001b[2;32m (White Pleated    \u001b[0m\u001b[2;32m \u001b[0m \u001b[2;34m \u001b[0m\u001b[2;34mApr 21, 2025\u001b[0m\u001b[2;34m \u001b[0m \u001b[2;35m \u001b[0m\u001b[2;35mrudolphous\u001b[0m\u001b[2;35m \u001b[0m \u001b[2;37m \u001b[0m\u001b[2;37mOverveen, Nederland\u001b[0m\u001b[2;37m \u001b[0m \n",
       " \u001b[2;36m           \u001b[0m \u001b[2;36m          \u001b[0m \u001b[2;32m \u001b[0m\u001b[2;32mLichen)                               \u001b[0m\u001b[2;32m \u001b[0m \u001b[2;34m              \u001b[0m \u001b[2;35m            \u001b[0m \u001b[2;37m                     \u001b[0m \n",
       "                                                                                                                   \n"
      ]
     },
     "metadata": {},
     "output_type": "display_data"
    },
    {
     "data": {
      "text/html": [
       "<pre style=\"white-space:pre;overflow-x:auto;line-height:normal;font-family:Menlo,'DejaVu Sans Mono',consolas,'Courier New',monospace\">                                                                                                                   \n",
       " <span style=\"color: #c0c0c0; text-decoration-color: #c0c0c0; font-weight: bold\"> ID        </span> <span style=\"color: #c0c0c0; text-decoration-color: #c0c0c0; font-weight: bold\"> Taxon ID </span> <span style=\"color: #c0c0c0; text-decoration-color: #c0c0c0; font-weight: bold\"> Taxon                          </span> <span style=\"color: #c0c0c0; text-decoration-color: #c0c0c0; font-weight: bold\"> Observed on  </span> <span style=\"color: #c0c0c0; text-decoration-color: #c0c0c0; font-weight: bold\"> User         </span> <span style=\"color: #c0c0c0; text-decoration-color: #c0c0c0; font-weight: bold\"> Location                  </span> \n",
       " ━━━━━━━━━━━━━━━━━━━━━━━━━━━━━━━━━━━━━━━━━━━━━━━━━━━━━━━━━━━━━━━━━━━━━━━━━━━━━━━━━━━━━━━━━━━━━━━━━━━━━━━━━━━━━━━━━ \n",
       " <span style=\"color: #7fbfbf; text-decoration-color: #7fbfbf\"> 271984792 </span> <span style=\"color: #7fbfbf; text-decoration-color: #7fbfbf\"> 117971   </span> <span style=\"color: #7fbf7f; text-decoration-color: #7fbf7f\"> </span><span style=\"color: #7fbf7f; text-decoration-color: #7fbf7f; font-style: italic\">Hypogymnia physodes</span><span style=\"color: #7fbf7f; text-decoration-color: #7fbf7f\"> (Hooded    </span> <span style=\"color: #7f7fbf; text-decoration-color: #7f7fbf\"> Apr 20, 2025 </span> <span style=\"color: #bf7fbf; text-decoration-color: #bf7fbf\"> lauritzgreen </span> <span style=\"color: #dfdfdf; text-decoration-color: #dfdfdf\"> Kristiansand S, Agder, NO </span> \n",
       " <span style=\"color: #7fbfbf; text-decoration-color: #7fbfbf\">           </span> <span style=\"color: #7fbfbf; text-decoration-color: #7fbfbf\">          </span> <span style=\"color: #7fbf7f; text-decoration-color: #7fbf7f\"> Tube Lichen)                   </span> <span style=\"color: #7f7fbf; text-decoration-color: #7f7fbf\">              </span> <span style=\"color: #bf7fbf; text-decoration-color: #bf7fbf\">              </span> <span style=\"color: #dfdfdf; text-decoration-color: #dfdfdf\">                           </span> \n",
       "                                                                                                                   \n",
       "</pre>\n"
      ],
      "text/plain": [
       "                                                                                                                   \n",
       " \u001b[1;37m \u001b[0m\u001b[1;37mID       \u001b[0m\u001b[1;37m \u001b[0m \u001b[1;37m \u001b[0m\u001b[1;37mTaxon ID\u001b[0m\u001b[1;37m \u001b[0m \u001b[1;37m \u001b[0m\u001b[1;37mTaxon                         \u001b[0m\u001b[1;37m \u001b[0m \u001b[1;37m \u001b[0m\u001b[1;37mObserved on \u001b[0m\u001b[1;37m \u001b[0m \u001b[1;37m \u001b[0m\u001b[1;37mUser        \u001b[0m\u001b[1;37m \u001b[0m \u001b[1;37m \u001b[0m\u001b[1;37mLocation                 \u001b[0m\u001b[1;37m \u001b[0m \n",
       " ━━━━━━━━━━━━━━━━━━━━━━━━━━━━━━━━━━━━━━━━━━━━━━━━━━━━━━━━━━━━━━━━━━━━━━━━━━━━━━━━━━━━━━━━━━━━━━━━━━━━━━━━━━━━━━━━━ \n",
       " \u001b[2;36m \u001b[0m\u001b[2;36m271984792\u001b[0m\u001b[2;36m \u001b[0m \u001b[2;36m \u001b[0m\u001b[2;36m117971  \u001b[0m\u001b[2;36m \u001b[0m \u001b[2;32m \u001b[0m\u001b[2;3;32mHypogymnia physodes\u001b[0m\u001b[2;32m (Hooded   \u001b[0m\u001b[2;32m \u001b[0m \u001b[2;34m \u001b[0m\u001b[2;34mApr 20, 2025\u001b[0m\u001b[2;34m \u001b[0m \u001b[2;35m \u001b[0m\u001b[2;35mlauritzgreen\u001b[0m\u001b[2;35m \u001b[0m \u001b[2;37m \u001b[0m\u001b[2;37mKristiansand S, Agder, NO\u001b[0m\u001b[2;37m \u001b[0m \n",
       " \u001b[2;36m           \u001b[0m \u001b[2;36m          \u001b[0m \u001b[2;32m \u001b[0m\u001b[2;32mTube Lichen)                  \u001b[0m\u001b[2;32m \u001b[0m \u001b[2;34m              \u001b[0m \u001b[2;35m              \u001b[0m \u001b[2;37m                           \u001b[0m \n",
       "                                                                                                                   \n"
      ]
     },
     "metadata": {},
     "output_type": "display_data"
    },
    {
     "data": {
      "text/html": [
       "<pre style=\"white-space:pre;overflow-x:auto;line-height:normal;font-family:Menlo,'DejaVu Sans Mono',consolas,'Courier New',monospace\">                                                                                                                   \n",
       " <span style=\"color: #c0c0c0; text-decoration-color: #c0c0c0; font-weight: bold\"> ID        </span> <span style=\"color: #c0c0c0; text-decoration-color: #c0c0c0; font-weight: bold\"> Taxon ID </span> <span style=\"color: #c0c0c0; text-decoration-color: #c0c0c0; font-weight: bold\"> Taxon                    </span> <span style=\"color: #c0c0c0; text-decoration-color: #c0c0c0; font-weight: bold\"> Observed on  </span> <span style=\"color: #c0c0c0; text-decoration-color: #c0c0c0; font-weight: bold\"> User     </span> <span style=\"color: #c0c0c0; text-decoration-color: #c0c0c0; font-weight: bold\"> Location                            </span> \n",
       " ━━━━━━━━━━━━━━━━━━━━━━━━━━━━━━━━━━━━━━━━━━━━━━━━━━━━━━━━━━━━━━━━━━━━━━━━━━━━━━━━━━━━━━━━━━━━━━━━━━━━━━━━━━━━━━━━━ \n",
       " <span style=\"color: #7fbfbf; text-decoration-color: #7fbfbf\"> 271982281 </span> <span style=\"color: #7fbfbf; text-decoration-color: #7fbfbf\"> 1285381  </span> <span style=\"color: #7fbf7f; text-decoration-color: #7fbf7f\"> </span><span style=\"color: #7fbf7f; text-decoration-color: #7fbf7f; font-style: italic\">Kuettlingeria teicholyta</span><span style=\"color: #7fbf7f; text-decoration-color: #7fbf7f\"> </span> <span style=\"color: #7f7fbf; text-decoration-color: #7f7fbf\"> Apr 21, 2025 </span> <span style=\"color: #bf7fbf; text-decoration-color: #bf7fbf\"> jezzecek </span> <span style=\"color: #dfdfdf; text-decoration-color: #dfdfdf\"> Prasklice 100, 768 33 Prasklice,    </span> \n",
       " <span style=\"color: #7fbfbf; text-decoration-color: #7fbfbf\">           </span> <span style=\"color: #7fbfbf; text-decoration-color: #7fbfbf\">          </span> <span style=\"color: #7fbf7f; text-decoration-color: #7fbf7f\">                          </span> <span style=\"color: #7f7fbf; text-decoration-color: #7f7fbf\">              </span> <span style=\"color: #bf7fbf; text-decoration-color: #bf7fbf\">          </span> <span style=\"color: #dfdfdf; text-decoration-color: #dfdfdf\"> Česko                               </span> \n",
       "                                                                                                                   \n",
       "</pre>\n"
      ],
      "text/plain": [
       "                                                                                                                   \n",
       " \u001b[1;37m \u001b[0m\u001b[1;37mID       \u001b[0m\u001b[1;37m \u001b[0m \u001b[1;37m \u001b[0m\u001b[1;37mTaxon ID\u001b[0m\u001b[1;37m \u001b[0m \u001b[1;37m \u001b[0m\u001b[1;37mTaxon                   \u001b[0m\u001b[1;37m \u001b[0m \u001b[1;37m \u001b[0m\u001b[1;37mObserved on \u001b[0m\u001b[1;37m \u001b[0m \u001b[1;37m \u001b[0m\u001b[1;37mUser    \u001b[0m\u001b[1;37m \u001b[0m \u001b[1;37m \u001b[0m\u001b[1;37mLocation                           \u001b[0m\u001b[1;37m \u001b[0m \n",
       " ━━━━━━━━━━━━━━━━━━━━━━━━━━━━━━━━━━━━━━━━━━━━━━━━━━━━━━━━━━━━━━━━━━━━━━━━━━━━━━━━━━━━━━━━━━━━━━━━━━━━━━━━━━━━━━━━━ \n",
       " \u001b[2;36m \u001b[0m\u001b[2;36m271982281\u001b[0m\u001b[2;36m \u001b[0m \u001b[2;36m \u001b[0m\u001b[2;36m1285381 \u001b[0m\u001b[2;36m \u001b[0m \u001b[2;32m \u001b[0m\u001b[2;3;32mKuettlingeria teicholyta\u001b[0m\u001b[2;32m \u001b[0m \u001b[2;34m \u001b[0m\u001b[2;34mApr 21, 2025\u001b[0m\u001b[2;34m \u001b[0m \u001b[2;35m \u001b[0m\u001b[2;35mjezzecek\u001b[0m\u001b[2;35m \u001b[0m \u001b[2;37m \u001b[0m\u001b[2;37mPrasklice 100, 768 33 Prasklice,   \u001b[0m\u001b[2;37m \u001b[0m \n",
       " \u001b[2;36m           \u001b[0m \u001b[2;36m          \u001b[0m \u001b[2;32m                          \u001b[0m \u001b[2;34m              \u001b[0m \u001b[2;35m          \u001b[0m \u001b[2;37m \u001b[0m\u001b[2;37mČesko                              \u001b[0m\u001b[2;37m \u001b[0m \n",
       "                                                                                                                   \n"
      ]
     },
     "metadata": {},
     "output_type": "display_data"
    },
    {
     "data": {
      "text/html": [
       "<pre style=\"white-space:pre;overflow-x:auto;line-height:normal;font-family:Menlo,'DejaVu Sans Mono',consolas,'Courier New',monospace\">                                                                                                                   \n",
       " <span style=\"color: #c0c0c0; text-decoration-color: #c0c0c0; font-weight: bold\"> ID        </span> <span style=\"color: #c0c0c0; text-decoration-color: #c0c0c0; font-weight: bold\"> Taxon ID </span> <span style=\"color: #c0c0c0; text-decoration-color: #c0c0c0; font-weight: bold\"> Taxon                        </span> <span style=\"color: #c0c0c0; text-decoration-color: #c0c0c0; font-weight: bold\"> Observed on  </span> <span style=\"color: #c0c0c0; text-decoration-color: #c0c0c0; font-weight: bold\"> User       </span> <span style=\"color: #c0c0c0; text-decoration-color: #c0c0c0; font-weight: bold\"> Location                      </span> \n",
       " ━━━━━━━━━━━━━━━━━━━━━━━━━━━━━━━━━━━━━━━━━━━━━━━━━━━━━━━━━━━━━━━━━━━━━━━━━━━━━━━━━━━━━━━━━━━━━━━━━━━━━━━━━━━━━━━━━ \n",
       " <span style=\"color: #7fbfbf; text-decoration-color: #7fbfbf\"> 271979265 </span> <span style=\"color: #7fbfbf; text-decoration-color: #7fbfbf\"> 55576    </span> <span style=\"color: #7fbf7f; text-decoration-color: #7fbf7f\"> </span><span style=\"color: #7fbf7f; text-decoration-color: #7fbf7f; font-style: italic\">Xanthoria parietina</span><span style=\"color: #7fbf7f; text-decoration-color: #7fbf7f\"> (Common  </span> <span style=\"color: #7f7fbf; text-decoration-color: #7f7fbf\"> Mar 09, 2025 </span> <span style=\"color: #bf7fbf; text-decoration-color: #bf7fbf\"> demianhiss </span> <span style=\"color: #dfdfdf; text-decoration-color: #dfdfdf\"> 61389 Schmitten im Taunus,    </span> \n",
       " <span style=\"color: #7fbfbf; text-decoration-color: #7fbfbf\">           </span> <span style=\"color: #7fbfbf; text-decoration-color: #7fbfbf\">          </span> <span style=\"color: #7fbf7f; text-decoration-color: #7fbf7f\"> Sunburst Lichen)             </span> <span style=\"color: #7f7fbf; text-decoration-color: #7f7fbf\">              </span> <span style=\"color: #bf7fbf; text-decoration-color: #bf7fbf\">            </span> <span style=\"color: #dfdfdf; text-decoration-color: #dfdfdf\"> Germany                       </span> \n",
       "                                                                                                                   \n",
       "</pre>\n"
      ],
      "text/plain": [
       "                                                                                                                   \n",
       " \u001b[1;37m \u001b[0m\u001b[1;37mID       \u001b[0m\u001b[1;37m \u001b[0m \u001b[1;37m \u001b[0m\u001b[1;37mTaxon ID\u001b[0m\u001b[1;37m \u001b[0m \u001b[1;37m \u001b[0m\u001b[1;37mTaxon                       \u001b[0m\u001b[1;37m \u001b[0m \u001b[1;37m \u001b[0m\u001b[1;37mObserved on \u001b[0m\u001b[1;37m \u001b[0m \u001b[1;37m \u001b[0m\u001b[1;37mUser      \u001b[0m\u001b[1;37m \u001b[0m \u001b[1;37m \u001b[0m\u001b[1;37mLocation                     \u001b[0m\u001b[1;37m \u001b[0m \n",
       " ━━━━━━━━━━━━━━━━━━━━━━━━━━━━━━━━━━━━━━━━━━━━━━━━━━━━━━━━━━━━━━━━━━━━━━━━━━━━━━━━━━━━━━━━━━━━━━━━━━━━━━━━━━━━━━━━━ \n",
       " \u001b[2;36m \u001b[0m\u001b[2;36m271979265\u001b[0m\u001b[2;36m \u001b[0m \u001b[2;36m \u001b[0m\u001b[2;36m55576   \u001b[0m\u001b[2;36m \u001b[0m \u001b[2;32m \u001b[0m\u001b[2;3;32mXanthoria parietina\u001b[0m\u001b[2;32m (Common \u001b[0m\u001b[2;32m \u001b[0m \u001b[2;34m \u001b[0m\u001b[2;34mMar 09, 2025\u001b[0m\u001b[2;34m \u001b[0m \u001b[2;35m \u001b[0m\u001b[2;35mdemianhiss\u001b[0m\u001b[2;35m \u001b[0m \u001b[2;37m \u001b[0m\u001b[2;37m61389 Schmitten im Taunus,   \u001b[0m\u001b[2;37m \u001b[0m \n",
       " \u001b[2;36m           \u001b[0m \u001b[2;36m          \u001b[0m \u001b[2;32m \u001b[0m\u001b[2;32mSunburst Lichen)            \u001b[0m\u001b[2;32m \u001b[0m \u001b[2;34m              \u001b[0m \u001b[2;35m            \u001b[0m \u001b[2;37m \u001b[0m\u001b[2;37mGermany                      \u001b[0m\u001b[2;37m \u001b[0m \n",
       "                                                                                                                   \n"
      ]
     },
     "metadata": {},
     "output_type": "display_data"
    },
    {
     "data": {
      "text/html": [
       "<pre style=\"white-space:pre;overflow-x:auto;line-height:normal;font-family:Menlo,'DejaVu Sans Mono',consolas,'Courier New',monospace\">                                                                                                                   \n",
       " <span style=\"color: #c0c0c0; text-decoration-color: #c0c0c0; font-weight: bold\"> ID        </span> <span style=\"color: #c0c0c0; text-decoration-color: #c0c0c0; font-weight: bold\"> Taxon ID </span> <span style=\"color: #c0c0c0; text-decoration-color: #c0c0c0; font-weight: bold\"> Taxon                        </span> <span style=\"color: #c0c0c0; text-decoration-color: #c0c0c0; font-weight: bold\"> Observed on  </span> <span style=\"color: #c0c0c0; text-decoration-color: #c0c0c0; font-weight: bold\"> User        </span> <span style=\"color: #c0c0c0; text-decoration-color: #c0c0c0; font-weight: bold\"> Location                     </span> \n",
       " ━━━━━━━━━━━━━━━━━━━━━━━━━━━━━━━━━━━━━━━━━━━━━━━━━━━━━━━━━━━━━━━━━━━━━━━━━━━━━━━━━━━━━━━━━━━━━━━━━━━━━━━━━━━━━━━━━ \n",
       " <span style=\"color: #7fbfbf; text-decoration-color: #7fbfbf\"> 271978396 </span> <span style=\"color: #7fbfbf; text-decoration-color: #7fbfbf\"> 229764   </span> <span style=\"color: #7fbf7f; text-decoration-color: #7fbf7f\"> </span><span style=\"color: #7fbf7f; text-decoration-color: #7fbf7f; font-style: italic\">Ramalina fastigiata</span><span style=\"color: #7fbf7f; text-decoration-color: #7fbf7f\"> (Dotted  </span> <span style=\"color: #7f7fbf; text-decoration-color: #7f7fbf\"> Apr 20, 2025 </span> <span style=\"color: #bf7fbf; text-decoration-color: #bf7fbf\"> rene_berlin </span> <span style=\"color: #dfdfdf; text-decoration-color: #dfdfdf\"> Märkisch-Oderland, DE-BR, DE </span> \n",
       " <span style=\"color: #7fbfbf; text-decoration-color: #7fbfbf\">           </span> <span style=\"color: #7fbfbf; text-decoration-color: #7fbfbf\">          </span> <span style=\"color: #7fbf7f; text-decoration-color: #7fbf7f\"> Ribbon Lichen)               </span> <span style=\"color: #7f7fbf; text-decoration-color: #7f7fbf\">              </span> <span style=\"color: #bf7fbf; text-decoration-color: #bf7fbf\">             </span> <span style=\"color: #dfdfdf; text-decoration-color: #dfdfdf\">                              </span> \n",
       "                                                                                                                   \n",
       "</pre>\n"
      ],
      "text/plain": [
       "                                                                                                                   \n",
       " \u001b[1;37m \u001b[0m\u001b[1;37mID       \u001b[0m\u001b[1;37m \u001b[0m \u001b[1;37m \u001b[0m\u001b[1;37mTaxon ID\u001b[0m\u001b[1;37m \u001b[0m \u001b[1;37m \u001b[0m\u001b[1;37mTaxon                       \u001b[0m\u001b[1;37m \u001b[0m \u001b[1;37m \u001b[0m\u001b[1;37mObserved on \u001b[0m\u001b[1;37m \u001b[0m \u001b[1;37m \u001b[0m\u001b[1;37mUser       \u001b[0m\u001b[1;37m \u001b[0m \u001b[1;37m \u001b[0m\u001b[1;37mLocation                    \u001b[0m\u001b[1;37m \u001b[0m \n",
       " ━━━━━━━━━━━━━━━━━━━━━━━━━━━━━━━━━━━━━━━━━━━━━━━━━━━━━━━━━━━━━━━━━━━━━━━━━━━━━━━━━━━━━━━━━━━━━━━━━━━━━━━━━━━━━━━━━ \n",
       " \u001b[2;36m \u001b[0m\u001b[2;36m271978396\u001b[0m\u001b[2;36m \u001b[0m \u001b[2;36m \u001b[0m\u001b[2;36m229764  \u001b[0m\u001b[2;36m \u001b[0m \u001b[2;32m \u001b[0m\u001b[2;3;32mRamalina fastigiata\u001b[0m\u001b[2;32m (Dotted \u001b[0m\u001b[2;32m \u001b[0m \u001b[2;34m \u001b[0m\u001b[2;34mApr 20, 2025\u001b[0m\u001b[2;34m \u001b[0m \u001b[2;35m \u001b[0m\u001b[2;35mrene_berlin\u001b[0m\u001b[2;35m \u001b[0m \u001b[2;37m \u001b[0m\u001b[2;37mMärkisch-Oderland, DE-BR, DE\u001b[0m\u001b[2;37m \u001b[0m \n",
       " \u001b[2;36m           \u001b[0m \u001b[2;36m          \u001b[0m \u001b[2;32m \u001b[0m\u001b[2;32mRibbon Lichen)              \u001b[0m\u001b[2;32m \u001b[0m \u001b[2;34m              \u001b[0m \u001b[2;35m             \u001b[0m \u001b[2;37m                              \u001b[0m \n",
       "                                                                                                                   \n"
      ]
     },
     "metadata": {},
     "output_type": "display_data"
    },
    {
     "data": {
      "text/html": [
       "<pre style=\"white-space:pre;overflow-x:auto;line-height:normal;font-family:Menlo,'DejaVu Sans Mono',consolas,'Courier New',monospace\">                                                                                                                   \n",
       " <span style=\"color: #c0c0c0; text-decoration-color: #c0c0c0; font-weight: bold\"> ID        </span> <span style=\"color: #c0c0c0; text-decoration-color: #c0c0c0; font-weight: bold\"> Taxon ID </span> <span style=\"color: #c0c0c0; text-decoration-color: #c0c0c0; font-weight: bold\"> Taxon                        </span> <span style=\"color: #c0c0c0; text-decoration-color: #c0c0c0; font-weight: bold\"> Observed on  </span> <span style=\"color: #c0c0c0; text-decoration-color: #c0c0c0; font-weight: bold\"> User        </span> <span style=\"color: #c0c0c0; text-decoration-color: #c0c0c0; font-weight: bold\"> Location                     </span> \n",
       " ━━━━━━━━━━━━━━━━━━━━━━━━━━━━━━━━━━━━━━━━━━━━━━━━━━━━━━━━━━━━━━━━━━━━━━━━━━━━━━━━━━━━━━━━━━━━━━━━━━━━━━━━━━━━━━━━━ \n",
       " <span style=\"color: #7fbfbf; text-decoration-color: #7fbfbf\"> 271978293 </span> <span style=\"color: #7fbfbf; text-decoration-color: #7fbfbf\"> 229764   </span> <span style=\"color: #7fbf7f; text-decoration-color: #7fbf7f\"> </span><span style=\"color: #7fbf7f; text-decoration-color: #7fbf7f; font-style: italic\">Ramalina fastigiata</span><span style=\"color: #7fbf7f; text-decoration-color: #7fbf7f\"> (Dotted  </span> <span style=\"color: #7f7fbf; text-decoration-color: #7f7fbf\"> Apr 20, 2025 </span> <span style=\"color: #bf7fbf; text-decoration-color: #bf7fbf\"> rene_berlin </span> <span style=\"color: #dfdfdf; text-decoration-color: #dfdfdf\"> Märkisch-Oderland, DE-BR, DE </span> \n",
       " <span style=\"color: #7fbfbf; text-decoration-color: #7fbfbf\">           </span> <span style=\"color: #7fbfbf; text-decoration-color: #7fbfbf\">          </span> <span style=\"color: #7fbf7f; text-decoration-color: #7fbf7f\"> Ribbon Lichen)               </span> <span style=\"color: #7f7fbf; text-decoration-color: #7f7fbf\">              </span> <span style=\"color: #bf7fbf; text-decoration-color: #bf7fbf\">             </span> <span style=\"color: #dfdfdf; text-decoration-color: #dfdfdf\">                              </span> \n",
       "                                                                                                                   \n",
       "</pre>\n"
      ],
      "text/plain": [
       "                                                                                                                   \n",
       " \u001b[1;37m \u001b[0m\u001b[1;37mID       \u001b[0m\u001b[1;37m \u001b[0m \u001b[1;37m \u001b[0m\u001b[1;37mTaxon ID\u001b[0m\u001b[1;37m \u001b[0m \u001b[1;37m \u001b[0m\u001b[1;37mTaxon                       \u001b[0m\u001b[1;37m \u001b[0m \u001b[1;37m \u001b[0m\u001b[1;37mObserved on \u001b[0m\u001b[1;37m \u001b[0m \u001b[1;37m \u001b[0m\u001b[1;37mUser       \u001b[0m\u001b[1;37m \u001b[0m \u001b[1;37m \u001b[0m\u001b[1;37mLocation                    \u001b[0m\u001b[1;37m \u001b[0m \n",
       " ━━━━━━━━━━━━━━━━━━━━━━━━━━━━━━━━━━━━━━━━━━━━━━━━━━━━━━━━━━━━━━━━━━━━━━━━━━━━━━━━━━━━━━━━━━━━━━━━━━━━━━━━━━━━━━━━━ \n",
       " \u001b[2;36m \u001b[0m\u001b[2;36m271978293\u001b[0m\u001b[2;36m \u001b[0m \u001b[2;36m \u001b[0m\u001b[2;36m229764  \u001b[0m\u001b[2;36m \u001b[0m \u001b[2;32m \u001b[0m\u001b[2;3;32mRamalina fastigiata\u001b[0m\u001b[2;32m (Dotted \u001b[0m\u001b[2;32m \u001b[0m \u001b[2;34m \u001b[0m\u001b[2;34mApr 20, 2025\u001b[0m\u001b[2;34m \u001b[0m \u001b[2;35m \u001b[0m\u001b[2;35mrene_berlin\u001b[0m\u001b[2;35m \u001b[0m \u001b[2;37m \u001b[0m\u001b[2;37mMärkisch-Oderland, DE-BR, DE\u001b[0m\u001b[2;37m \u001b[0m \n",
       " \u001b[2;36m           \u001b[0m \u001b[2;36m          \u001b[0m \u001b[2;32m \u001b[0m\u001b[2;32mRibbon Lichen)              \u001b[0m\u001b[2;32m \u001b[0m \u001b[2;34m              \u001b[0m \u001b[2;35m             \u001b[0m \u001b[2;37m                              \u001b[0m \n",
       "                                                                                                                   \n"
      ]
     },
     "metadata": {},
     "output_type": "display_data"
    },
    {
     "data": {
      "text/html": [
       "<pre style=\"white-space:pre;overflow-x:auto;line-height:normal;font-family:Menlo,'DejaVu Sans Mono',consolas,'Courier New',monospace\">                                                                                                                   \n",
       " <span style=\"color: #c0c0c0; text-decoration-color: #c0c0c0; font-weight: bold\"> ID        </span> <span style=\"color: #c0c0c0; text-decoration-color: #c0c0c0; font-weight: bold\"> Taxon ID </span> <span style=\"color: #c0c0c0; text-decoration-color: #c0c0c0; font-weight: bold\"> Taxon                </span> <span style=\"color: #c0c0c0; text-decoration-color: #c0c0c0; font-weight: bold\"> Observed on  </span> <span style=\"color: #c0c0c0; text-decoration-color: #c0c0c0; font-weight: bold\"> User        </span> <span style=\"color: #c0c0c0; text-decoration-color: #c0c0c0; font-weight: bold\"> Location                             </span> \n",
       " ━━━━━━━━━━━━━━━━━━━━━━━━━━━━━━━━━━━━━━━━━━━━━━━━━━━━━━━━━━━━━━━━━━━━━━━━━━━━━━━━━━━━━━━━━━━━━━━━━━━━━━━━━━━━━━━━━ \n",
       " <span style=\"color: #7fbfbf; text-decoration-color: #7fbfbf\"> 271978107 </span> <span style=\"color: #7fbfbf; text-decoration-color: #7fbfbf\"> 370776   </span> <span style=\"color: #7fbf7f; text-decoration-color: #7fbf7f\"> </span><span style=\"color: #7fbf7f; text-decoration-color: #7fbf7f; font-style: italic\">Cladonia rangiformis</span><span style=\"color: #7fbf7f; text-decoration-color: #7fbf7f\"> </span> <span style=\"color: #7f7fbf; text-decoration-color: #7f7fbf\"> Apr 21, 2025 </span> <span style=\"color: #bf7fbf; text-decoration-color: #bf7fbf\"> thomas_mock </span> <span style=\"color: #dfdfdf; text-decoration-color: #dfdfdf\"> Norfolk Coast AONB,                  </span> \n",
       " <span style=\"color: #7fbfbf; text-decoration-color: #7fbfbf\">           </span> <span style=\"color: #7fbfbf; text-decoration-color: #7fbfbf\">          </span> <span style=\"color: #7fbf7f; text-decoration-color: #7fbf7f\">                      </span> <span style=\"color: #7f7fbf; text-decoration-color: #7f7fbf\">              </span> <span style=\"color: #bf7fbf; text-decoration-color: #bf7fbf\">             </span> <span style=\"color: #dfdfdf; text-decoration-color: #dfdfdf\"> Wells-Next-The-Sea, England, GB      </span> \n",
       "                                                                                                                   \n",
       "</pre>\n"
      ],
      "text/plain": [
       "                                                                                                                   \n",
       " \u001b[1;37m \u001b[0m\u001b[1;37mID       \u001b[0m\u001b[1;37m \u001b[0m \u001b[1;37m \u001b[0m\u001b[1;37mTaxon ID\u001b[0m\u001b[1;37m \u001b[0m \u001b[1;37m \u001b[0m\u001b[1;37mTaxon               \u001b[0m\u001b[1;37m \u001b[0m \u001b[1;37m \u001b[0m\u001b[1;37mObserved on \u001b[0m\u001b[1;37m \u001b[0m \u001b[1;37m \u001b[0m\u001b[1;37mUser       \u001b[0m\u001b[1;37m \u001b[0m \u001b[1;37m \u001b[0m\u001b[1;37mLocation                            \u001b[0m\u001b[1;37m \u001b[0m \n",
       " ━━━━━━━━━━━━━━━━━━━━━━━━━━━━━━━━━━━━━━━━━━━━━━━━━━━━━━━━━━━━━━━━━━━━━━━━━━━━━━━━━━━━━━━━━━━━━━━━━━━━━━━━━━━━━━━━━ \n",
       " \u001b[2;36m \u001b[0m\u001b[2;36m271978107\u001b[0m\u001b[2;36m \u001b[0m \u001b[2;36m \u001b[0m\u001b[2;36m370776  \u001b[0m\u001b[2;36m \u001b[0m \u001b[2;32m \u001b[0m\u001b[2;3;32mCladonia rangiformis\u001b[0m\u001b[2;32m \u001b[0m \u001b[2;34m \u001b[0m\u001b[2;34mApr 21, 2025\u001b[0m\u001b[2;34m \u001b[0m \u001b[2;35m \u001b[0m\u001b[2;35mthomas_mock\u001b[0m\u001b[2;35m \u001b[0m \u001b[2;37m \u001b[0m\u001b[2;37mNorfolk Coast AONB,                 \u001b[0m\u001b[2;37m \u001b[0m \n",
       " \u001b[2;36m           \u001b[0m \u001b[2;36m          \u001b[0m \u001b[2;32m                      \u001b[0m \u001b[2;34m              \u001b[0m \u001b[2;35m             \u001b[0m \u001b[2;37m \u001b[0m\u001b[2;37mWells-Next-The-Sea, England, GB     \u001b[0m\u001b[2;37m \u001b[0m \n",
       "                                                                                                                   \n"
      ]
     },
     "metadata": {},
     "output_type": "display_data"
    }
   ],
   "source": [
    "from pyinaturalist import get_observations, pprint\n",
    "observations = get_observations(taxon_id = 54743,\n",
    "                                place_guess = 'Texas, USA',\n",
    "                                quality_grade = 'research')\n",
    "for obs in observations['results']:\n",
    "    pprint(obs)"
   ]
  },
  {
   "cell_type": "code",
   "execution_count": 2,
   "id": "7ff008ac-bdd2-4638-8a16-8c7f032b15be",
   "metadata": {},
   "outputs": [
    {
     "name": "stdout",
     "output_type": "stream",
     "text": [
      "Downloaded /Users/eabowman/Dropbox/LichenProject/iNaturalist/obs_272047790_photo_489409178.jpg\n",
      "Downloaded /Users/eabowman/Dropbox/LichenProject/iNaturalist/obs_272047773_photo_489409333.jpg\n",
      "Downloaded /Users/eabowman/Dropbox/LichenProject/iNaturalist/obs_272047728_photo_489409236.jpg\n",
      "Downloaded /Users/eabowman/Dropbox/LichenProject/iNaturalist/obs_272047704_photo_489409267.jpg\n",
      "Downloaded /Users/eabowman/Dropbox/LichenProject/iNaturalist/obs_272047704_photo_489409309.jpg\n",
      "Downloaded /Users/eabowman/Dropbox/LichenProject/iNaturalist/obs_272047704_photo_489409355.jpg\n",
      "Downloaded /Users/eabowman/Dropbox/LichenProject/iNaturalist/obs_272047704_photo_489409405.jpg\n",
      "Downloaded /Users/eabowman/Dropbox/LichenProject/iNaturalist/obs_272047685_photo_489409260.jpg\n",
      "Downloaded /Users/eabowman/Dropbox/LichenProject/iNaturalist/obs_272047685_photo_489409322.jpg\n",
      "Downloaded /Users/eabowman/Dropbox/LichenProject/iNaturalist/obs_272047500_photo_489408915.jpg\n",
      "Downloaded /Users/eabowman/Dropbox/LichenProject/iNaturalist/obs_272047500_photo_489409072.jpg\n",
      "Downloaded /Users/eabowman/Dropbox/LichenProject/iNaturalist/obs_272047421_photo_489408528.jpg\n",
      "Downloaded /Users/eabowman/Dropbox/LichenProject/iNaturalist/obs_272047421_photo_489408522.jpg\n",
      "Downloaded /Users/eabowman/Dropbox/LichenProject/iNaturalist/obs_272047421_photo_489408531.jpg\n",
      "Downloaded /Users/eabowman/Dropbox/LichenProject/iNaturalist/obs_272047240_photo_489408137.jpg\n",
      "Downloaded /Users/eabowman/Dropbox/LichenProject/iNaturalist/obs_272046902_photo_489407471.jpg\n",
      "Downloaded /Users/eabowman/Dropbox/LichenProject/iNaturalist/obs_272046902_photo_489407520.jpg\n",
      "Downloaded /Users/eabowman/Dropbox/LichenProject/iNaturalist/obs_272046902_photo_489407565.jpg\n",
      "Downloaded /Users/eabowman/Dropbox/LichenProject/iNaturalist/obs_272046902_photo_489407613.jpg\n",
      "Downloaded /Users/eabowman/Dropbox/LichenProject/iNaturalist/obs_272046902_photo_489407656.jpg\n",
      "Downloaded /Users/eabowman/Dropbox/LichenProject/iNaturalist/obs_272046902_photo_489407700.jpg\n",
      "Downloaded /Users/eabowman/Dropbox/LichenProject/iNaturalist/obs_272046326_photo_489406067.jpg\n",
      "Downloaded /Users/eabowman/Dropbox/LichenProject/iNaturalist/obs_272046110_photo_489386660.jpg\n",
      "Downloaded /Users/eabowman/Dropbox/LichenProject/iNaturalist/obs_272046110_photo_489386798.jpg\n",
      "Downloaded /Users/eabowman/Dropbox/LichenProject/iNaturalist/obs_272046107_photo_489386461.jpg\n",
      "Downloaded /Users/eabowman/Dropbox/LichenProject/iNaturalist/obs_272046107_photo_489386423.jpg\n",
      "Downloaded /Users/eabowman/Dropbox/LichenProject/iNaturalist/obs_272046105_photo_489386210.jpg\n",
      "Downloaded /Users/eabowman/Dropbox/LichenProject/iNaturalist/obs_272046105_photo_489386205.jpg\n",
      "Downloaded /Users/eabowman/Dropbox/LichenProject/iNaturalist/obs_272046105_photo_489386453.jpg\n",
      "Downloaded /Users/eabowman/Dropbox/LichenProject/iNaturalist/obs_272046102_photo_489385881.jpg\n",
      "Downloaded /Users/eabowman/Dropbox/LichenProject/iNaturalist/obs_272046102_photo_489385944.jpg\n",
      "Downloaded /Users/eabowman/Dropbox/LichenProject/iNaturalist/obs_272046039_photo_489394245.jpg\n",
      "Downloaded /Users/eabowman/Dropbox/LichenProject/iNaturalist/obs_272046019_photo_489406016.jpg\n",
      "Downloaded /Users/eabowman/Dropbox/LichenProject/iNaturalist/obs_272045967_photo_489405450.jpg\n",
      "Downloaded /Users/eabowman/Dropbox/LichenProject/iNaturalist/obs_272045885_photo_489404344.jpg\n",
      "Downloaded /Users/eabowman/Dropbox/LichenProject/iNaturalist/obs_272045885_photo_489404356.jpg\n",
      "Downloaded /Users/eabowman/Dropbox/LichenProject/iNaturalist/obs_272045885_photo_489404329.jpg\n",
      "Downloaded /Users/eabowman/Dropbox/LichenProject/iNaturalist/obs_272045838_photo_489405813.jpg\n",
      "Downloaded /Users/eabowman/Dropbox/LichenProject/iNaturalist/obs_272045838_photo_489407418.jpg\n",
      "Downloaded /Users/eabowman/Dropbox/LichenProject/iNaturalist/obs_272045515_photo_489405200.jpg\n",
      "Downloaded /Users/eabowman/Dropbox/LichenProject/iNaturalist/obs_272045497_photo_489405106.jpg\n",
      "Downloaded /Users/eabowman/Dropbox/LichenProject/iNaturalist/obs_272045497_photo_489405147.jpg\n",
      "Downloaded /Users/eabowman/Dropbox/LichenProject/iNaturalist/obs_272045497_photo_489405163.jpg\n",
      "Downloaded /Users/eabowman/Dropbox/LichenProject/iNaturalist/obs_272045497_photo_489405213.jpg\n",
      "Downloaded /Users/eabowman/Dropbox/LichenProject/iNaturalist/obs_272045288_photo_489404846.jpg\n",
      "Downloaded /Users/eabowman/Dropbox/LichenProject/iNaturalist/obs_272045288_photo_489404868.jpg\n",
      "Downloaded /Users/eabowman/Dropbox/LichenProject/iNaturalist/obs_272045129_photo_489404566.jpg\n",
      "Downloaded /Users/eabowman/Dropbox/LichenProject/iNaturalist/obs_272044797_photo_489402937.jpg\n",
      "Downloaded /Users/eabowman/Dropbox/LichenProject/iNaturalist/obs_272044742_photo_489403935.jpg\n",
      "Downloaded /Users/eabowman/Dropbox/LichenProject/iNaturalist/obs_272044742_photo_489404006.jpg\n",
      "Downloaded /Users/eabowman/Dropbox/LichenProject/iNaturalist/obs_272044742_photo_489404114.jpg\n",
      "Downloaded /Users/eabowman/Dropbox/LichenProject/iNaturalist/obs_272044742_photo_489404169.jpg\n",
      "Downloaded /Users/eabowman/Dropbox/LichenProject/iNaturalist/obs_272044742_photo_489404226.jpg\n",
      "Downloaded /Users/eabowman/Dropbox/LichenProject/iNaturalist/obs_272044699_photo_488413547.jpg\n",
      "Downloaded /Users/eabowman/Dropbox/LichenProject/iNaturalist/obs_272044695_photo_488413564.jpg\n",
      "Downloaded /Users/eabowman/Dropbox/LichenProject/iNaturalist/obs_272044689_photo_488413537.jpg\n",
      "Downloaded /Users/eabowman/Dropbox/LichenProject/iNaturalist/obs_272044680_photo_488413674.jpg\n",
      "Downloaded /Users/eabowman/Dropbox/LichenProject/iNaturalist/obs_272044670_photo_489403819.jpg\n",
      "Downloaded /Users/eabowman/Dropbox/LichenProject/iNaturalist/obs_272044670_photo_489403880.jpg\n",
      "Downloaded /Users/eabowman/Dropbox/LichenProject/iNaturalist/obs_272044670_photo_489403941.jpg\n",
      "Downloaded /Users/eabowman/Dropbox/LichenProject/iNaturalist/obs_272044670_photo_489403980.jpg\n",
      "Downloaded /Users/eabowman/Dropbox/LichenProject/iNaturalist/obs_272044615_photo_489403667.jpg\n",
      "Downloaded /Users/eabowman/Dropbox/LichenProject/iNaturalist/obs_272044615_photo_489403668.jpg\n",
      "Downloaded /Users/eabowman/Dropbox/LichenProject/iNaturalist/obs_272044546_photo_489403327.jpg\n",
      "Downloaded /Users/eabowman/Dropbox/LichenProject/iNaturalist/obs_272044273_photo_489403008.jpg\n",
      "Downloaded /Users/eabowman/Dropbox/LichenProject/iNaturalist/obs_272044003_photo_489402506.jpg\n",
      "Downloaded /Users/eabowman/Dropbox/LichenProject/iNaturalist/obs_272043995_photo_489402569.jpg\n",
      "Downloaded /Users/eabowman/Dropbox/LichenProject/iNaturalist/obs_272043993_photo_489402239.jpg\n",
      "Downloaded /Users/eabowman/Dropbox/LichenProject/iNaturalist/obs_272043746_photo_489400169.jpg\n",
      "Downloaded /Users/eabowman/Dropbox/LichenProject/iNaturalist/obs_272043746_photo_489400161.jpg\n",
      "Downloaded /Users/eabowman/Dropbox/LichenProject/iNaturalist/obs_272043633_photo_489399091.jpg\n",
      "Downloaded /Users/eabowman/Dropbox/LichenProject/iNaturalist/obs_272043633_photo_489399134.jpg\n",
      "Downloaded /Users/eabowman/Dropbox/LichenProject/iNaturalist/obs_272043630_photo_489399053.jpg\n",
      "Downloaded /Users/eabowman/Dropbox/LichenProject/iNaturalist/obs_272043630_photo_489399082.jpg\n",
      "Downloaded /Users/eabowman/Dropbox/LichenProject/iNaturalist/obs_272043239_photo_489401490.jpg\n",
      "Downloaded /Users/eabowman/Dropbox/LichenProject/iNaturalist/obs_272043239_photo_489401426.jpg\n",
      "Downloaded /Users/eabowman/Dropbox/LichenProject/iNaturalist/obs_272043239_photo_489401529.jpg\n",
      "Downloaded /Users/eabowman/Dropbox/LichenProject/iNaturalist/obs_272043080_photo_489400888.jpg\n",
      "Downloaded /Users/eabowman/Dropbox/LichenProject/iNaturalist/obs_272042723_photo_489400417.jpg\n",
      "Downloaded /Users/eabowman/Dropbox/LichenProject/iNaturalist/obs_272042723_photo_489400422.jpg\n",
      "Downloaded /Users/eabowman/Dropbox/LichenProject/iNaturalist/obs_272042723_photo_489400408.jpg\n",
      "Downloaded /Users/eabowman/Dropbox/LichenProject/iNaturalist/obs_272042669_photo_489378842.jpg\n",
      "Downloaded /Users/eabowman/Dropbox/LichenProject/iNaturalist/obs_272042588_photo_489378484.jpg\n",
      "Downloaded /Users/eabowman/Dropbox/LichenProject/iNaturalist/obs_272042561_photo_489378428.jpg\n",
      "Downloaded /Users/eabowman/Dropbox/LichenProject/iNaturalist/obs_272042513_photo_489400232.jpg\n",
      "Downloaded /Users/eabowman/Dropbox/LichenProject/iNaturalist/obs_272042511_photo_489400056.jpg\n",
      "Downloaded /Users/eabowman/Dropbox/LichenProject/iNaturalist/obs_272042508_photo_489400118.jpg\n",
      "Downloaded /Users/eabowman/Dropbox/LichenProject/iNaturalist/obs_272042504_photo_489399882.jpg\n",
      "Downloaded /Users/eabowman/Dropbox/LichenProject/iNaturalist/obs_272042500_photo_489399872.jpg\n"
     ]
    }
   ],
   "source": [
    "import os\n",
    "import time\n",
    "import requests\n",
    "from pyinaturalist import get_observations\n",
    "\n",
    "# Specify the taxon ID for lichens (54743)\n",
    "taxon_id = 54743\n",
    "\n",
    "# Specify the place (Texas, USA)\n",
    "place_guess = \"Texas, USA\"\n",
    "\n",
    "# Directory to save images\n",
    "save_dir = '/Users/eabowman/Dropbox/LichenProject/iNaturalist'\n",
    "if not os.path.exists(save_dir):\n",
    "    os.makedirs(save_dir)\n",
    "\n",
    "# Function to download image with retry\n",
    "def download_image(image_url, save_path, retries=3, delay=60):\n",
    "    for attempt in range(retries):\n",
    "        try:\n",
    "            # Request the image\n",
    "            response = requests.get(image_url)\n",
    "            response.raise_for_status()  # Raise an error if the request fails\n",
    "\n",
    "            # Write the image to file\n",
    "            with open(save_path, 'wb') as file:\n",
    "                file.write(response.content)\n",
    "            print(f\"Downloaded {save_path}\")\n",
    "            return  # Successfully downloaded, exit function\n",
    "        except requests.exceptions.RequestException as e:\n",
    "            print(f\"Attempt {attempt + 1} failed for {image_url}: {e}\")\n",
    "            if attempt < retries - 1:\n",
    "                print(f\"Retrying in {delay} seconds...\")\n",
    "                time.sleep(delay)  # Wait before retrying\n",
    "            else:\n",
    "                print(f\"Failed to download image after {retries} attempts.\")\n",
    "\n",
    "# Function to get observations with retry\n",
    "def get_observations_with_retry(taxon_id, place_guess, retries=3, delay=60):\n",
    "    for attempt in range(retries):\n",
    "        try:\n",
    "            response = get_observations(\n",
    "                taxon_id=taxon_id,\n",
    "                place_guess=place_guess,\n",
    "                photos=True,  # Fetch observations with photos\n",
    "                per_page=50,  # Adjust per_page as needed (max 200)\n",
    "                page=1  # Page number, iterate if needed\n",
    "            )\n",
    "            return response\n",
    "        except Exception as e:\n",
    "            print(f\"Attempt {attempt + 1} failed for fetching observations: {e}\")\n",
    "            if attempt < retries - 1:\n",
    "                print(f\"Retrying in {delay} seconds...\")\n",
    "                time.sleep(delay)  # Wait before retrying\n",
    "            else:\n",
    "                raise e\n",
    "\n",
    "# Fetch observations with retry\n",
    "response = get_observations_with_retry(taxon_id, place_guess)\n",
    "\n",
    "# Loop through the results and download the images\n",
    "for observation in response['results']:\n",
    "    if 'photos' in observation:\n",
    "        for photo in observation['photos']:\n",
    "            image_url = photo['url']\n",
    "            # Create a filename for the image\n",
    "            image_filename = os.path.join(save_dir, f\"obs_{observation['id']}_photo_{photo['id']}.jpg\")\n",
    "            # Download the image with retry\n",
    "            download_image(image_url, image_filename)"
   ]
  },
  {
   "cell_type": "code",
   "execution_count": null,
   "id": "6dc0241f-6907-41f5-9041-0cace53da561",
   "metadata": {},
   "outputs": [],
   "source": [
    "# Get an access token\n",
    "from pyinaturalist.auth import get_access_token\n",
    "\n",
    "# Fill in the values from your iNaturalist app\n",
    "access_token = get_access_token(\n",
    "    username='lizbowman',\n",
    "    password='BowMan2#',\n",
    "    app_id='YOUR_CLIENT_ID',\n",
    "    app_secret='YOUR_CLIENT_SECRET'\n",
    ")\n",
    "\n",
    "print(access_token)"
   ]
  },
  {
   "cell_type": "code",
   "execution_count": null,
   "id": "ff230dd6-9b32-4db7-aeb8-07154368153f",
   "metadata": {},
   "outputs": [],
   "source": [
    "# Set up access token\n",
    "from pyinaturalist import set_access_token, get_observations\n",
    "\n",
    "# Set your access token\n",
    "set_access_token('YOUR_ACCESS_TOKEN')"
   ]
  },
  {
   "cell_type": "code",
   "execution_count": null,
   "id": "9d2ee086-c2f5-4fe1-9a44-1a1603da2ab5",
   "metadata": {},
   "outputs": [],
   "source": [
    "import json\n",
    "import os\n",
    "import requests\n",
    "from pyinaturalist import get_observations\n",
    "\n",
    "# Set the directory where you'd like to save the data\n",
    "output_dir = '/Users/eabowman/Dropbox/LichenProject/iNaturalist'\n",
    "os.makedirs(output_dir, exist_ok=True)  # Create the directory if it doesn't exist\n",
    "\n",
    "# File paths for saving observations and images\n",
    "observations_file = os.path.join(output_dir, 'lichens_observations.json')\n",
    "images_dir = os.path.join(output_dir, 'images')\n",
    "os.makedirs(images_dir, exist_ok=True)  # Create an 'images' subdirectory for images\n",
    "\n",
    "taxon_id = 48460  # Lichens\n",
    "all_results = []\n",
    "\n",
    "place_guess = 'Texas, USA'  # Use Texas as the place\n",
    "\n",
    "page = 1\n",
    "while True:\n",
    "    response = get_observations(\n",
    "        taxon_id=taxon_id,\n",
    "        place_guess=place_guess,  # Specify Texas as the place\n",
    "        photos=True,\n",
    "        per_page=200,\n",
    "        page=page\n",
    "    )\n",
    "    results = response['results']\n",
    "    if not results:\n",
    "        break\n",
    "    all_results.extend(results)\n",
    "    print(f'Fetched page {page} with {len(results)} records')\n",
    "    page += 1\n",
    "\n",
    "# Save observations to a JSON file\n",
    "with open(observations_file, 'w') as f:\n",
    "    json.dump(all_results, f, indent=4)\n",
    "\n",
    "print(f\"Saved {len(all_results)} observations to {observations_file}\")\n",
    "\n",
    "# Function to download images\n",
    "def download_images(observations, images_dir):\n",
    "    for observation in observations:\n",
    "        photos = observation.get('photos', [])\n",
    "        for i, photo in enumerate(photos):\n",
    "            image_url = photo.get('url')\n",
    "            if image_url:\n",
    "                try:\n",
    "                    image_name = f\"obs_{observation['id']}_photo_{i + 1}.jpg\"\n",
    "                    image_path = os.path.join(images_dir, image_name)\n",
    "                    \n",
    "                    # Download the image\n",
    "                    image_data = requests.get(image_url).content\n",
    "                    \n",
    "                    # Save the image to the directory\n",
    "                    with open(image_path, 'wb') as img_file:\n",
    "                        img_file.write(image_data)\n",
    "                    \n",
    "                    print(f\"Downloaded image {image_name}\")\n",
    "                except Exception as e:\n",
    "                    print(f\"Error downloading image for observation {observation['id']}: {e}\")\n",
    "\n",
    "# Download images for all observations\n",
    "download_images(all_results, images_dir)\n"
   ]
  }
 ],
 "metadata": {
  "kernelspec": {
   "display_name": "Python 3 (ipykernel)",
   "language": "python",
   "name": "python3"
  },
  "language_info": {
   "codemirror_mode": {
    "name": "ipython",
    "version": 3
   },
   "file_extension": ".py",
   "mimetype": "text/x-python",
   "name": "python",
   "nbconvert_exporter": "python",
   "pygments_lexer": "ipython3",
   "version": "3.13.3"
  }
 },
 "nbformat": 4,
 "nbformat_minor": 5
}
