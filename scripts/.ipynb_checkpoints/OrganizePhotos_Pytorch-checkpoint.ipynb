{
 "cells": [
  {
   "cell_type": "code",
   "execution_count": 1,
   "id": "4ce37f7c-d464-4d8b-874d-efafb05d0c9b",
   "metadata": {},
   "outputs": [],
   "source": [
    "import os\n",
    "import pandas as pd\n",
    "import requests\n",
    "# %pip install tqdm\n",
    "from tqdm import tqdm"
   ]
  },
  {
   "cell_type": "code",
   "execution_count": 2,
   "id": "09a2cdbd-9266-435d-8d88-c928b8cf53d7",
   "metadata": {},
   "outputs": [],
   "source": [
    "# Set paths\n",
    "output_dir = \"/Users/eabowman/Dropbox/LichenProject/dataset\"\n",
    "os.makedirs(output_dir, exist_ok=True)"
   ]
  },
  {
   "cell_type": "code",
   "execution_count": 3,
   "id": "57f4c505-26ba-488c-9627-85dd748c6701",
   "metadata": {},
   "outputs": [],
   "source": [
    "# --- LichenPortal ---\n",
    "lichen_df = pd.read_csv(\"/Users/eabowman/Dropbox/LichenProject/references/LichenPortal_Texas_22Apr24_filtered.csv\", encoding='latin1')"
   ]
  },
  {
   "cell_type": "code",
   "execution_count": 4,
   "id": "f7867854-488b-408a-bf0d-41e06b220ae3",
   "metadata": {},
   "outputs": [],
   "source": [
    "# --- iNaturalist ---\n",
    "inat_df = pd.read_csv(\"/Users/eabowman/Dropbox/LichenProject/references/iNaturalist_21Apr25.csv\")  # your iNat CSV"
   ]
  },
  {
   "cell_type": "code",
   "execution_count": 5,
   "id": "1a71ae8f-b950-4195-8faa-d1f3441179be",
   "metadata": {},
   "outputs": [],
   "source": [
    "# Combine both sources\n",
    "combined = pd.DataFrame({\n",
    "    'scientific_name': pd.concat([\n",
    "        lichen_df['scientificName'],\n",
    "        inat_df['scientific_name']\n",
    "    ], ignore_index=True),\n",
    "    'image_url': pd.concat([\n",
    "        lichen_df['goodQualityAccessURI'],\n",
    "        inat_df['image_url']\n",
    "    ], ignore_index=True)\n",
    "})"
   ]
  },
  {
   "cell_type": "code",
   "execution_count": 6,
   "id": "2ead52f8-eb93-4686-a2ca-c2d1dce08707",
   "metadata": {},
   "outputs": [
    {
     "name": "stdout",
     "output_type": "stream",
     "text": [
      "Index(['scientific_name', 'image_url'], dtype='object')\n"
     ]
    }
   ],
   "source": [
    "# Check column names\n",
    "print(combined.columns)"
   ]
  },
  {
   "cell_type": "code",
   "execution_count": 7,
   "id": "236e36d5-065d-4317-9543-07ae729798f8",
   "metadata": {},
   "outputs": [],
   "source": [
    "# Clean species names to create valid folder names\n",
    "combined['clean_name'] = combined['scientific_name'].str.replace(r'\\s+', '_', regex=True)"
   ]
  },
  {
   "cell_type": "code",
   "execution_count": 11,
   "id": "9ed431ee-5985-469d-bb87-31eadceb6e63",
   "metadata": {},
   "outputs": [],
   "source": [
    "combined = combined.dropna(subset=['clean_name', 'image_url'])"
   ]
  },
  {
   "cell_type": "code",
   "execution_count": 12,
   "id": "b53ae17a-ef3a-439d-b85a-bc22e25a5552",
   "metadata": {},
   "outputs": [
    {
     "name": "stdout",
     "output_type": "stream",
     "text": [
      "['Cladonia_hammeri' 'Caloplaca_texana' 'Placopyrenium_caeruleopulvinum'\n",
      " ... 'Ramalina_fraxinea' 'Parmotrema_diffractaicum'\n",
      " 'Speerschneidera_euploca']\n"
     ]
    }
   ],
   "source": [
    "print(combined['clean_name'].unique())"
   ]
  },
  {
   "cell_type": "code",
   "execution_count": 13,
   "id": "1606f090-f1fa-4e8e-a104-3c0e76a0d6dd",
   "metadata": {},
   "outputs": [],
   "source": [
    "# Download function\n",
    "def download_image(row):\n",
    "    folder = os.path.join(output_dir, row['clean_name'])\n",
    "    os.makedirs(folder, exist_ok=True)\n",
    "\n",
    "    image_name = os.path.basename(row['image_url']).split('?')[0]  # Remove any query strings\n",
    "    filename = os.path.join(folder, image_name)\n",
    "\n",
    "    try:\n",
    "        response = requests.get(row['image_url'], timeout=10)\n",
    "        response.raise_for_status()\n",
    "        with open(filename, 'wb') as f:\n",
    "            f.write(response.content)\n",
    "    except Exception as e:\n",
    "        print(f\"Failed to download {row['image_url']}: {e}\")"
   ]
  },
  {
   "cell_type": "code",
   "execution_count": 14,
   "id": "b7919af9-70e4-4c81-a46a-3d1a5a43cbe3",
   "metadata": {},
   "outputs": [
    {
     "name": "stderr",
     "output_type": "stream",
     "text": [
      "  0%|▏                                                                            | 43/14077 [00:53<1:32:55,  2.52it/s]"
     ]
    },
    {
     "name": "stdout",
     "output_type": "stream",
     "text": [
      "Failed to download http://bornnaturalist.org/images/20070213/4.jpg: 404 Client Error: Not Found for url: https://bornnaturalist.org/images/20070213/4.jpg\n"
     ]
    },
    {
     "name": "stderr",
     "output_type": "stream",
     "text": [
      "  0%|▏                                                                            | 44/14077 [00:53<1:20:13,  2.92it/s]"
     ]
    },
    {
     "name": "stdout",
     "output_type": "stream",
     "text": [
      "Failed to download http://bornnaturalist.org/images/20070213/24.jpg: 404 Client Error: Not Found for url: https://bornnaturalist.org/images/20070213/24.jpg\n"
     ]
    },
    {
     "name": "stderr",
     "output_type": "stream",
     "text": [
      "  0%|▏                                                                            | 45/14077 [00:54<1:11:47,  3.26it/s]"
     ]
    },
    {
     "name": "stdout",
     "output_type": "stream",
     "text": [
      "Failed to download http://bornnaturalist.org/images/20070213/32.jpg: 404 Client Error: Not Found for url: https://bornnaturalist.org/images/20070213/32.jpg\n"
     ]
    },
    {
     "name": "stderr",
     "output_type": "stream",
     "text": [
      "  0%|▎                                                                            | 47/14077 [00:55<1:22:11,  2.84it/s]"
     ]
    },
    {
     "name": "stdout",
     "output_type": "stream",
     "text": [
      "Failed to download http://bornnaturalist.org/images/20070221/58.jpg: 404 Client Error: Not Found for url: https://bornnaturalist.org/images/20070221/58.jpg\n"
     ]
    },
    {
     "name": "stderr",
     "output_type": "stream",
     "text": [
      "  0%|▎                                                                            | 48/14077 [00:55<1:13:31,  3.18it/s]"
     ]
    },
    {
     "name": "stdout",
     "output_type": "stream",
     "text": [
      "Failed to download http://bornnaturalist.org/images/20070221/42.jpg: 404 Client Error: Not Found for url: https://bornnaturalist.org/images/20070221/42.jpg\n"
     ]
    },
    {
     "name": "stderr",
     "output_type": "stream",
     "text": [
      "  0%|▎                                                                            | 49/14077 [00:55<1:06:58,  3.49it/s]"
     ]
    },
    {
     "name": "stdout",
     "output_type": "stream",
     "text": [
      "Failed to download http://bornnaturalist.org/images/20070221/43.jpg: 404 Client Error: Not Found for url: https://bornnaturalist.org/images/20070221/43.jpg\n"
     ]
    },
    {
     "name": "stderr",
     "output_type": "stream",
     "text": [
      "  0%|▎                                                                            | 50/14077 [00:55<1:02:05,  3.77it/s]"
     ]
    },
    {
     "name": "stdout",
     "output_type": "stream",
     "text": [
      "Failed to download http://bornnaturalist.org/images/20070221/54.jpg: 404 Client Error: Not Found for url: https://bornnaturalist.org/images/20070221/54.jpg\n"
     ]
    },
    {
     "name": "stderr",
     "output_type": "stream",
     "text": [
      "  0%|▎                                                                              | 51/14077 [00:55<58:59,  3.96it/s]"
     ]
    },
    {
     "name": "stdout",
     "output_type": "stream",
     "text": [
      "Failed to download http://bornnaturalist.org/images/20070221/4.jpg: 404 Client Error: Not Found for url: https://bornnaturalist.org/images/20070221/4.jpg\n"
     ]
    },
    {
     "name": "stderr",
     "output_type": "stream",
     "text": [
      "  0%|▎                                                                              | 53/14077 [00:56<59:31,  3.93it/s]"
     ]
    },
    {
     "name": "stdout",
     "output_type": "stream",
     "text": [
      "Failed to download http://bornnaturalist.org/images/20070223/66.jpg: 404 Client Error: Not Found for url: https://bornnaturalist.org/images/20070223/66.jpg\n"
     ]
    },
    {
     "name": "stderr",
     "output_type": "stream",
     "text": [
      "  0%|▎                                                                              | 54/14077 [00:56<57:56,  4.03it/s]"
     ]
    },
    {
     "name": "stdout",
     "output_type": "stream",
     "text": [
      "Failed to download http://bornnaturalist.org/images/20070223/65.jpg : 404 Client Error: Not Found for url: https://bornnaturalist.org/images/20070223/65.jpg%20\n"
     ]
    },
    {
     "name": "stderr",
     "output_type": "stream",
     "text": [
      "  0%|▎                                                                              | 55/14077 [00:56<56:45,  4.12it/s]"
     ]
    },
    {
     "name": "stdout",
     "output_type": "stream",
     "text": [
      "Failed to download http://bornnaturalist.org/images/20070224/54.jpg: 404 Client Error: Not Found for url: https://bornnaturalist.org/images/20070224/54.jpg\n"
     ]
    },
    {
     "name": "stderr",
     "output_type": "stream",
     "text": [
      "  0%|▎                                                                              | 56/14077 [00:57<55:56,  4.18it/s]"
     ]
    },
    {
     "name": "stdout",
     "output_type": "stream",
     "text": [
      "Failed to download http://bornnaturalist.org/images/20070226/3.jpg: 404 Client Error: Not Found for url: https://bornnaturalist.org/images/20070226/3.jpg\n"
     ]
    },
    {
     "name": "stderr",
     "output_type": "stream",
     "text": [
      "  0%|▎                                                                              | 57/14077 [00:57<54:47,  4.26it/s]"
     ]
    },
    {
     "name": "stdout",
     "output_type": "stream",
     "text": [
      "Failed to download http://bornnaturalist.org/images/20091006/23.jpg: 404 Client Error: Not Found for url: https://bornnaturalist.org/images/20091006/23.jpg\n"
     ]
    },
    {
     "name": "stderr",
     "output_type": "stream",
     "text": [
      "  0%|▎                                                                              | 58/14077 [00:57<54:08,  4.32it/s]"
     ]
    },
    {
     "name": "stdout",
     "output_type": "stream",
     "text": [
      "Failed to download http://bornnaturalist.org/images/20091007/196.jpg: 404 Client Error: Not Found for url: https://bornnaturalist.org/images/20091007/196.jpg\n"
     ]
    },
    {
     "name": "stderr",
     "output_type": "stream",
     "text": [
      "  0%|▎                                                                              | 59/14077 [00:57<53:13,  4.39it/s]"
     ]
    },
    {
     "name": "stdout",
     "output_type": "stream",
     "text": [
      "Failed to download http://bornnaturalist.org/images/20091007/316.jpg: 404 Client Error: Not Found for url: https://bornnaturalist.org/images/20091007/316.jpg\n"
     ]
    },
    {
     "name": "stderr",
     "output_type": "stream",
     "text": [
      "  0%|▎                                                                              | 60/14077 [00:58<52:48,  4.42it/s]"
     ]
    },
    {
     "name": "stdout",
     "output_type": "stream",
     "text": [
      "Failed to download http://bornnaturalist.org/images/20091027/196.jpg: 404 Client Error: Not Found for url: https://bornnaturalist.org/images/20091027/196.jpg\n"
     ]
    },
    {
     "name": "stderr",
     "output_type": "stream",
     "text": [
      "  0%|▎                                                                              | 61/14077 [00:58<52:28,  4.45it/s]"
     ]
    },
    {
     "name": "stdout",
     "output_type": "stream",
     "text": [
      "Failed to download http://bornnaturalist.org/images/20091027/248.jpg: 404 Client Error: Not Found for url: https://bornnaturalist.org/images/20091027/248.jpg\n"
     ]
    },
    {
     "name": "stderr",
     "output_type": "stream",
     "text": [
      "  0%|▎                                                                              | 62/14077 [00:58<52:41,  4.43it/s]"
     ]
    },
    {
     "name": "stdout",
     "output_type": "stream",
     "text": [
      "Failed to download http://bornnaturalist.org/images/20091027/291.jpg: 404 Client Error: Not Found for url: https://bornnaturalist.org/images/20091027/291.jpg\n"
     ]
    },
    {
     "name": "stderr",
     "output_type": "stream",
     "text": [
      "  0%|▎                                                                              | 63/14077 [00:58<53:01,  4.40it/s]"
     ]
    },
    {
     "name": "stdout",
     "output_type": "stream",
     "text": [
      "Failed to download http://bornnaturalist.org/images/20100312/7.jpg: 404 Client Error: Not Found for url: https://bornnaturalist.org/images/20100312/7.jpg\n"
     ]
    },
    {
     "name": "stderr",
     "output_type": "stream",
     "text": [
      "  0%|▎                                                                              | 64/14077 [00:58<52:30,  4.45it/s]"
     ]
    },
    {
     "name": "stdout",
     "output_type": "stream",
     "text": [
      "Failed to download http://bornnaturalist.org/images/20070102/45.jpg : 404 Client Error: Not Found for url: https://bornnaturalist.org/images/20070102/45.jpg%20\n"
     ]
    },
    {
     "name": "stderr",
     "output_type": "stream",
     "text": [
      " 92%|█████████████████████████████████████████████████████████████████▉      | 12889/14077 [1:30:37<1:07:01,  3.38s/it]"
     ]
    },
    {
     "name": "stdout",
     "output_type": "stream",
     "text": [
      "Failed to download https://inaturalist-open-data.s3.amazonaws.com/photos/194746401/medium.png: HTTPSConnectionPool(host='inaturalist-open-data.s3.amazonaws.com', port=443): Read timed out. (read timeout=10)\n"
     ]
    },
    {
     "name": "stderr",
     "output_type": "stream",
     "text": [
      "100%|██████████████████████████████████████████████████████████████████████████| 14077/14077 [1:37:58<00:00,  2.39it/s]\n"
     ]
    }
   ],
   "source": [
    "# Download images with a progress bar\n",
    "for _, row in tqdm(combined.iterrows(), total=len(combined)):\n",
    "    if pd.notna(row['clean_name']) and pd.notna(row['image_url']):\n",
    "        download_image(row)"
   ]
  },
  {
   "cell_type": "code",
   "execution_count": 17,
   "id": "24afc650-502a-4aa2-b5bd-ee15398f3b0f",
   "metadata": {},
   "outputs": [
    {
     "name": "stdout",
     "output_type": "stream",
     "text": [
      "Duplicate filenames:\n",
      "filename\n",
      "medium.jpg                       1349\n",
      "medium.jpeg                       897\n",
      "medium.JPG                         10\n",
      "medium.png                          6\n",
      "ASUL031876_03_print.jpg             2\n",
      "ASUL031916_04_print.jpg             2\n",
      "ASUL031907_03_print.jpg             2\n",
      "ASUL031943_03_print.jpg             2\n",
      "ASUL031911_04_print.jpg             2\n",
      "ASUL031909_03_print.jpg             2\n",
      "ASUL031899_03_print.jpg             2\n",
      "ASUL031921_04_print.jpg             2\n",
      "54.jpg                              2\n",
      "ASUL031872_03_print.jpg             2\n",
      "ASUL031852_03_print.jpg             2\n",
      "ASUL031939_03_print.jpg             2\n",
      "ASUL031922_03_print.jpg             2\n",
      "4.jpg                               2\n",
      "ASUL031906_04_print.jpg             2\n",
      "ASUL031919_03_print.jpg             2\n",
      "ASUL031947_02_print.jpg             2\n",
      "ASUL031940_03_print.jpg             2\n",
      "ASUL031941_03_print.jpg             2\n",
      "ASUL031928_03_print.jpg             2\n",
      "ASUL031905_03_print.jpg             2\n",
      "ASUL031867_02_print.jpg             2\n",
      "ASUL031862_03_print.jpg             2\n",
      "ASUL031918_03_print.jpg             2\n",
      "ASUL031942_03_print.jpg             2\n",
      "ASUL031865_03_print.jpg             2\n",
      "Phaeophyscia_adiastola_Ob.jpg       2\n",
      "Cladonia_pyxidata_Mazoman.jpg       2\n",
      "196.jpg                             2\n",
      "ASUL031894_03_print.jpg             2\n",
      "Name: count, dtype: int64\n"
     ]
    }
   ],
   "source": [
    "# check to see if the iNaturalist files have the same file names\n",
    "# Extract base filenames from image URLs\n",
    "combined['filename'] = combined['image_url'].apply(lambda url: os.path.basename(str(url)).split('?')[0])\n",
    "\n",
    "# Find duplicates\n",
    "duplicates = combined['filename'][combined['filename'].duplicated(keep=False)]\n",
    "\n",
    "# Print or inspect duplicates\n",
    "print(\"Duplicate filenames:\")\n",
    "print(duplicates.value_counts())"
   ]
  },
  {
   "cell_type": "code",
   "execution_count": 18,
   "id": "e1fc1b24-14ea-4313-807e-6e8a7dea7d61",
   "metadata": {},
   "outputs": [],
   "source": [
    "# Download function with a way to fix the duplicates\n",
    "# 1. Extract raw filenames from image_url\n",
    "combined['raw_filename'] = combined['image_url'].apply(\n",
    "    lambda x: os.path.basename(str(x).split('?')[0])\n",
    "\n"
   ]
  },
  {
   "cell_type": "code",
   "execution_count": 19,
   "id": "0b6bd340-cc14-4dd0-b331-d6cad58b4b2e",
   "metadata": {},
   "outputs": [],
   "source": [
    "# 2. Find duplicate filenames\n",
    "filename_counts = combined['raw_filename'].value_counts()\n",
    "duplicate_names = filename_counts[filename_counts > 1].index"
   ]
  },
  {
   "cell_type": "code",
   "execution_count": 20,
   "id": "d97371fe-d069-4b55-a1e7-9a6f8bb16778",
   "metadata": {},
   "outputs": [],
   "source": [
    "# 3. Filter DataFrame to only those with duplicate filenames\n",
    "duplicates_df = combined[combined['raw_filename'].isin(duplicate_names)]\n",
    "\n",
    "print(f\"Found {len(duplicates_df)} rows with duplicate raw filenames.\")"
   ]
  },
  {
   "cell_type": "code",
   "execution_count": 21,
   "id": "c0d9f494-4911-4df2-8b7c-e79373632e68",
   "metadata": {},
   "outputs": [],
   "source": [
    "# 4. Re-download only duplicates\n",
    "def download_image(row):\n",
    "    folder = os.path.join(output_dir, row['clean_name'])\n",
    "    os.makedirs(folder, exist_ok=True)\n",
    "\n",
    "    url = str(row['image_url'])\n",
    "    ext = os.path.splitext(url.split('?')[0])[1] or '.jpg'\n",
    "    unique_id = hashlib.md5(url.encode()).hexdigest()\n",
    "    filename = os.path.join(folder, f\"{unique_id}{ext}\")\n",
    "\n",
    "    try:\n",
    "        response = requests.get(url, timeout=10)\n",
    "        response.raise_for_status()\n",
    "        with open(filename, 'wb') as f:\n",
    "            f.write(response.content)\n",
    "    except Exception as e:\n",
    "        print(f\"Failed: {url} - {e}\")"
   ]
  },
  {
   "cell_type": "code",
   "execution_count": 22,
   "id": "95eb076e-5f14-4440-b6ed-872106b57e3a",
   "metadata": {},
   "outputs": [
    {
     "name": "stderr",
     "output_type": "stream",
     "text": [
      "100%|██████████████████████████████████████████████████████████████████████████████████| 56/56 [00:41<00:00,  1.35it/s]\n"
     ]
    }
   ],
   "source": [
    "from tqdm import tqdm\n",
    "# Run only for the duplicate entries\n",
    "for _, row in tqdm(duplicate_df.iterrows(), total=len(duplicate_df)):\n",
    "    download_image(row)"
   ]
  }
 ],
 "metadata": {
  "kernelspec": {
   "display_name": "Python 3 (ipykernel)",
   "language": "python",
   "name": "python3"
  },
  "language_info": {
   "codemirror_mode": {
    "name": "ipython",
    "version": 3
   },
   "file_extension": ".py",
   "mimetype": "text/x-python",
   "name": "python",
   "nbconvert_exporter": "python",
   "pygments_lexer": "ipython3",
   "version": "3.13.3"
  }
 },
 "nbformat": 4,
 "nbformat_minor": 5
}
